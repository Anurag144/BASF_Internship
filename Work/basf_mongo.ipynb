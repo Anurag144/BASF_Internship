{
 "cells": [
  {
   "cell_type": "code",
   "execution_count": 66,
   "metadata": {},
   "outputs": [
    {
     "name": "stdout",
     "output_type": "stream",
     "text": [
      "Connected successfully!!!\n",
      "MongoClient(host=['localhost:30972'], document_class=dict, tz_aware=False, connect=True)\n"
     ]
    }
   ],
   "source": [
    "import pymongo \n",
    "from pymongo import MongoClient\n",
    "\n",
    "try: \n",
    "    conn = MongoClient(\"mongodb://localhost:30972/\") \n",
    "    print(\"Connected successfully!!!\") \n",
    "    print(conn)\n",
    "except:   \n",
    "    print(\"Could not connect to MongoDB\") "
   ]
  },
  {
   "cell_type": "code",
   "execution_count": 67,
   "metadata": {},
   "outputs": [],
   "source": [
    "db = conn['test-database']\n",
    "collection = db['test-collection']\n",
    "posts = db.posts"
   ]
  },
  {
   "cell_type": "code",
   "execution_count": 68,
   "metadata": {},
   "outputs": [],
   "source": [
    "post = {\"author\": \"Mike\",\n",
    "       \"text\": \"My first blog post!\",\n",
    "        \"tags\": [\"mongodb\", \"python\", \"pymongo\"]}"
   ]
  },
  {
   "cell_type": "code",
   "execution_count": 69,
   "metadata": {},
   "outputs": [
    {
     "data": {
      "text/plain": [
       "ObjectId('5fe05df3598799f3745b2d96')"
      ]
     },
     "execution_count": 69,
     "metadata": {},
     "output_type": "execute_result"
    }
   ],
   "source": [
    "post_id = posts.insert_one(post).inserted_id\n",
    "post_id"
   ]
  },
  {
   "cell_type": "code",
   "execution_count": 70,
   "metadata": {},
   "outputs": [
    {
     "data": {
      "text/plain": [
       "['posts']"
      ]
     },
     "execution_count": 70,
     "metadata": {},
     "output_type": "execute_result"
    }
   ],
   "source": [
    "db.list_collection_names()"
   ]
  },
  {
   "cell_type": "code",
   "execution_count": 71,
   "metadata": {},
   "outputs": [],
   "source": [
    "x=collection.find()\n",
    "for data in x: \n",
    "    print(data)"
   ]
  },
  {
   "cell_type": "code",
   "execution_count": 72,
   "metadata": {},
   "outputs": [
    {
     "name": "stdout",
     "output_type": "stream",
     "text": [
      "{'_id': ObjectId('5fe05df3598799f3745b2d96'),\n",
      " 'author': 'Mike',\n",
      " 'tags': ['mongodb', 'python', 'pymongo'],\n",
      " 'text': 'My first blog post!'}\n"
     ]
    }
   ],
   "source": [
    "import pprint\n",
    "pprint.pprint(posts.find_one())"
   ]
  },
  {
   "cell_type": "code",
   "execution_count": 73,
   "metadata": {},
   "outputs": [
    {
     "name": "stdout",
     "output_type": "stream",
     "text": [
      "{'_id': ObjectId('5fe05df3598799f3745b2d96'),\n",
      " 'author': 'Mike',\n",
      " 'tags': ['mongodb', 'python', 'pymongo'],\n",
      " 'text': 'My first blog post!'}\n"
     ]
    }
   ],
   "source": [
    "pprint.pprint(posts.find_one({\"author\": \"Mike\"}))"
   ]
  },
  {
   "cell_type": "code",
   "execution_count": 74,
   "metadata": {},
   "outputs": [
    {
     "data": {
      "text/plain": [
       "[ObjectId('5fe05e00598799f3745b2d97'), ObjectId('5fe05e00598799f3745b2d98')]"
      ]
     },
     "execution_count": 74,
     "metadata": {},
     "output_type": "execute_result"
    }
   ],
   "source": [
    "import datetime\n",
    "new_posts = [{\"author\": \"Mike\",\n",
    "               \"text\": \"Another post!\",\n",
    "               \"tags\": [\"bulk\", \"insert\"],\n",
    "               \"date\": datetime.datetime(2009, 11, 12, 11, 14)},\n",
    "              {\"author\": \"Eliot\",\n",
    "               \"title\": \"MongoDB is fun\",\n",
    "               \"text\": \"and pretty easy too!\",\n",
    "               \"date\": datetime.datetime(2009, 11, 10, 10, 45)}]\n",
    "result = posts.insert_many(new_posts)\n",
    "result.inserted_ids"
   ]
  },
  {
   "cell_type": "code",
   "execution_count": 75,
   "metadata": {},
   "outputs": [
    {
     "name": "stdout",
     "output_type": "stream",
     "text": [
      "{'_id': ObjectId('5fe05df3598799f3745b2d96'),\n",
      " 'author': 'Mike',\n",
      " 'tags': ['mongodb', 'python', 'pymongo'],\n",
      " 'text': 'My first blog post!'}\n",
      "{'_id': ObjectId('5fe05e00598799f3745b2d97'),\n",
      " 'author': 'Mike',\n",
      " 'date': datetime.datetime(2009, 11, 12, 11, 14),\n",
      " 'tags': ['bulk', 'insert'],\n",
      " 'text': 'Another post!'}\n",
      "{'_id': ObjectId('5fe05e00598799f3745b2d98'),\n",
      " 'author': 'Eliot',\n",
      " 'date': datetime.datetime(2009, 11, 10, 10, 45),\n",
      " 'text': 'and pretty easy too!',\n",
      " 'title': 'MongoDB is fun'}\n"
     ]
    }
   ],
   "source": [
    "for post in posts.find():\n",
    "    pprint.pprint(post)"
   ]
  },
  {
   "cell_type": "code",
   "execution_count": 76,
   "metadata": {},
   "outputs": [
    {
     "data": {
      "text/plain": [
       "3"
      ]
     },
     "execution_count": 76,
     "metadata": {},
     "output_type": "execute_result"
    }
   ],
   "source": [
    "posts.count_documents({})"
   ]
  },
  {
   "cell_type": "code",
   "execution_count": 77,
   "metadata": {},
   "outputs": [],
   "source": [
    "result = db.profiles.create_index([('user_id', pymongo.ASCENDING)],unique=True)"
   ]
  },
  {
   "cell_type": "code",
   "execution_count": 78,
   "metadata": {},
   "outputs": [
    {
     "data": {
      "text/plain": [
       "['_id_', 'user_id_1']"
      ]
     },
     "execution_count": 78,
     "metadata": {},
     "output_type": "execute_result"
    }
   ],
   "source": [
    "sorted(list(db.profiles.index_information()))"
   ]
  },
  {
   "cell_type": "code",
   "execution_count": 79,
   "metadata": {},
   "outputs": [],
   "source": [
    "user_profiles = [{'user_id': 211, 'name': 'Luke'},{'user_id': 212, 'name': 'Ziltoid'}]\n",
    "result = db.profiles.insert_many(user_profiles)"
   ]
  },
  {
   "cell_type": "code",
   "execution_count": 80,
   "metadata": {},
   "outputs": [],
   "source": [
    "import pandas as pd\n",
    "df = pd.read_csv('/Users/jasminekaur/Desktop/basf/Code/data/Boston_Crime_Dataset.csv',encoding=\"latin_1\",dtype='unicode' )  "
   ]
  },
  {
   "cell_type": "code",
   "execution_count": 81,
   "metadata": {},
   "outputs": [],
   "source": [
    "df_mongo=df.head(20)"
   ]
  },
  {
   "cell_type": "code",
   "execution_count": 82,
   "metadata": {
    "scrolled": true
   },
   "outputs": [
    {
     "data": {
      "text/html": [
       "<div>\n",
       "<style scoped>\n",
       "    .dataframe tbody tr th:only-of-type {\n",
       "        vertical-align: middle;\n",
       "    }\n",
       "\n",
       "    .dataframe tbody tr th {\n",
       "        vertical-align: top;\n",
       "    }\n",
       "\n",
       "    .dataframe thead th {\n",
       "        text-align: right;\n",
       "    }\n",
       "</style>\n",
       "<table border=\"1\" class=\"dataframe\">\n",
       "  <thead>\n",
       "    <tr style=\"text-align: right;\">\n",
       "      <th></th>\n",
       "      <th>INCIDENT_NUMBER</th>\n",
       "      <th>OFFENSE_CODE</th>\n",
       "      <th>OFFENSE_CODE_GROUP</th>\n",
       "      <th>OFFENSE_DESCRIPTION</th>\n",
       "      <th>DISTRICT</th>\n",
       "      <th>REPORTING_AREA</th>\n",
       "      <th>OCCURRED_ON_DATE</th>\n",
       "      <th>YEAR</th>\n",
       "      <th>MONTH</th>\n",
       "      <th>DAY_OF_WEEK</th>\n",
       "      <th>HOUR</th>\n",
       "      <th>UCR_PART</th>\n",
       "      <th>STREET</th>\n",
       "      <th>Lat</th>\n",
       "      <th>Long</th>\n",
       "      <th>Location</th>\n",
       "    </tr>\n",
       "  </thead>\n",
       "  <tbody>\n",
       "    <tr>\n",
       "      <th>0</th>\n",
       "      <td>I182080058</td>\n",
       "      <td>2403</td>\n",
       "      <td>Disorderly Conduct</td>\n",
       "      <td>DISTURBING THE PEACE</td>\n",
       "      <td>E18</td>\n",
       "      <td>495</td>\n",
       "      <td>10.03.18 20:13</td>\n",
       "      <td>2018</td>\n",
       "      <td>10</td>\n",
       "      <td>Wednesday</td>\n",
       "      <td>20</td>\n",
       "      <td>Part Two</td>\n",
       "      <td>ARLINGTON ST</td>\n",
       "      <td>4.226.260.773</td>\n",
       "      <td>-7.112.118.637</td>\n",
       "      <td>(42.26260773</td>\n",
       "    </tr>\n",
       "    <tr>\n",
       "      <th>1</th>\n",
       "      <td>I182080053</td>\n",
       "      <td>3201</td>\n",
       "      <td>Property Lost</td>\n",
       "      <td>PROPERTY - LOST</td>\n",
       "      <td>D14</td>\n",
       "      <td>795</td>\n",
       "      <td>8/30/2018 20:00</td>\n",
       "      <td>2018</td>\n",
       "      <td>8</td>\n",
       "      <td>Thursday</td>\n",
       "      <td>20</td>\n",
       "      <td>Part Three</td>\n",
       "      <td>ALLSTON ST</td>\n",
       "      <td>4.235.211.146</td>\n",
       "      <td>-7.113.531.147</td>\n",
       "      <td>(42.35211146</td>\n",
       "    </tr>\n",
       "    <tr>\n",
       "      <th>2</th>\n",
       "      <td>I182080052</td>\n",
       "      <td>2647</td>\n",
       "      <td>Other</td>\n",
       "      <td>THREATS TO DO BODILY HARM</td>\n",
       "      <td>B2</td>\n",
       "      <td>329</td>\n",
       "      <td>10.03.18 19:20</td>\n",
       "      <td>2018</td>\n",
       "      <td>10</td>\n",
       "      <td>Wednesday</td>\n",
       "      <td>19</td>\n",
       "      <td>Part Two</td>\n",
       "      <td>DEVON ST</td>\n",
       "      <td>4.230.812.619</td>\n",
       "      <td>-7.107.692.974</td>\n",
       "      <td>(42.30812619</td>\n",
       "    </tr>\n",
       "    <tr>\n",
       "      <th>3</th>\n",
       "      <td>I182080051</td>\n",
       "      <td>413</td>\n",
       "      <td>Aggravated Assault</td>\n",
       "      <td>ASSAULT - AGGRAVATED - BATTERY</td>\n",
       "      <td>A1</td>\n",
       "      <td>92</td>\n",
       "      <td>10.03.18 20:00</td>\n",
       "      <td>2018</td>\n",
       "      <td>10</td>\n",
       "      <td>Wednesday</td>\n",
       "      <td>20</td>\n",
       "      <td>Part One</td>\n",
       "      <td>CAMBRIDGE ST</td>\n",
       "      <td>4.235.945.371</td>\n",
       "      <td>-7.105.964.817</td>\n",
       "      <td>(42.35945371</td>\n",
       "    </tr>\n",
       "    <tr>\n",
       "      <th>4</th>\n",
       "      <td>I182080050</td>\n",
       "      <td>3122</td>\n",
       "      <td>Aircraft</td>\n",
       "      <td>AIRCRAFT INCIDENTS</td>\n",
       "      <td>A7</td>\n",
       "      <td>36</td>\n",
       "      <td>10.03.18 20:49</td>\n",
       "      <td>2018</td>\n",
       "      <td>10</td>\n",
       "      <td>WED</td>\n",
       "      <td>20</td>\n",
       "      <td>Part Three</td>\n",
       "      <td>PRESCOTT ST</td>\n",
       "      <td>4.237.525.782</td>\n",
       "      <td>-7.102.466.343</td>\n",
       "      <td>(42.37525782</td>\n",
       "    </tr>\n",
       "    <tr>\n",
       "      <th>5</th>\n",
       "      <td>I182080049</td>\n",
       "      <td>1402</td>\n",
       "      <td>Vandalism</td>\n",
       "      <td>VANDALISM</td>\n",
       "      <td>C11</td>\n",
       "      <td>351</td>\n",
       "      <td>10.02.18 20:40</td>\n",
       "      <td>2018</td>\n",
       "      <td>10</td>\n",
       "      <td>Tuesday</td>\n",
       "      <td>20</td>\n",
       "      <td>Part Two</td>\n",
       "      <td>DORCHESTER AVE</td>\n",
       "      <td>4.229.919.694</td>\n",
       "      <td>-7.106.046.974</td>\n",
       "      <td>(42.29919694</td>\n",
       "    </tr>\n",
       "    <tr>\n",
       "      <th>6</th>\n",
       "      <td>I182080048</td>\n",
       "      <td>3803</td>\n",
       "      <td>Motor Vehicle Accident Response</td>\n",
       "      <td>M/V ACCIDENT - PERSONAL INJURY</td>\n",
       "      <td>NaN</td>\n",
       "      <td></td>\n",
       "      <td>10.03.18 20:16</td>\n",
       "      <td>2018</td>\n",
       "      <td>10</td>\n",
       "      <td>Wednesday</td>\n",
       "      <td>20</td>\n",
       "      <td>Part Three</td>\n",
       "      <td>NaN</td>\n",
       "      <td>4.232.073.413</td>\n",
       "      <td>-7.105.676.415</td>\n",
       "      <td>(42.32073413</td>\n",
       "    </tr>\n",
       "    <tr>\n",
       "      <th>7</th>\n",
       "      <td>I182080047</td>\n",
       "      <td>3301</td>\n",
       "      <td>Verbal Disputes</td>\n",
       "      <td>VERBAL DISPUTE</td>\n",
       "      <td>B2</td>\n",
       "      <td>603</td>\n",
       "      <td>10.03.18 19:32</td>\n",
       "      <td>2018</td>\n",
       "      <td>10</td>\n",
       "      <td>Wednesday</td>\n",
       "      <td>19</td>\n",
       "      <td>Part Three</td>\n",
       "      <td>TREMONT ST</td>\n",
       "      <td>4.233.380.683</td>\n",
       "      <td>-7.110.377.843</td>\n",
       "      <td>(42.33380683</td>\n",
       "    </tr>\n",
       "    <tr>\n",
       "      <th>8</th>\n",
       "      <td>I182080045</td>\n",
       "      <td>802</td>\n",
       "      <td>Simple Assault</td>\n",
       "      <td>ASSAULT SIMPLE - BATTERY</td>\n",
       "      <td>E18</td>\n",
       "      <td>543</td>\n",
       "      <td>10.03.18 19:27</td>\n",
       "      <td>2018</td>\n",
       "      <td>10</td>\n",
       "      <td>Wednesday</td>\n",
       "      <td>19</td>\n",
       "      <td>Part Two</td>\n",
       "      <td>AVILA RD</td>\n",
       "      <td>4.225.614.494</td>\n",
       "      <td>-7.112.802.506</td>\n",
       "      <td>(42.25614494</td>\n",
       "    </tr>\n",
       "    <tr>\n",
       "      <th>9</th>\n",
       "      <td>I182080044</td>\n",
       "      <td>3410</td>\n",
       "      <td>Towed</td>\n",
       "      <td>TOWED MOTOR VEHICLE</td>\n",
       "      <td>D4</td>\n",
       "      <td>621</td>\n",
       "      <td>10.03.18 20:00</td>\n",
       "      <td>2018</td>\n",
       "      <td>10</td>\n",
       "      <td>Wednesday</td>\n",
       "      <td>20</td>\n",
       "      <td>Part Three</td>\n",
       "      <td>COMMONWEALTH AVE</td>\n",
       "      <td>42.348.866</td>\n",
       "      <td>-7.108.936.284</td>\n",
       "      <td>(42.34886600</td>\n",
       "    </tr>\n",
       "    <tr>\n",
       "      <th>10</th>\n",
       "      <td>I182080043</td>\n",
       "      <td>3803</td>\n",
       "      <td>Motor Vehicle Accident Response</td>\n",
       "      <td>M/V ACCIDENT - PERSONAL INJURY</td>\n",
       "      <td>D14</td>\n",
       "      <td>750</td>\n",
       "      <td>10/3/2018  99:33:00 PM</td>\n",
       "      <td>2018</td>\n",
       "      <td>10</td>\n",
       "      <td>Wednesday</td>\n",
       "      <td>19</td>\n",
       "      <td>Part Three</td>\n",
       "      <td>FOSTER ST</td>\n",
       "      <td>4.234.432.328</td>\n",
       "      <td>-7.115.778.368</td>\n",
       "      <td>(42.34432328</td>\n",
       "    </tr>\n",
       "    <tr>\n",
       "      <th>11</th>\n",
       "      <td>I182080042</td>\n",
       "      <td>706</td>\n",
       "      <td>Auto Theft</td>\n",
       "      <td>AUTO THEFT - MOTORCYCLE / SCOOTER</td>\n",
       "      <td>E13</td>\n",
       "      <td>582</td>\n",
       "      <td>10.01.18 20:00</td>\n",
       "      <td>2018</td>\n",
       "      <td>10</td>\n",
       "      <td>MONDAY</td>\n",
       "      <td>20</td>\n",
       "      <td>Part One</td>\n",
       "      <td>BYNNER ST</td>\n",
       "      <td>4.232.324.363</td>\n",
       "      <td>-7.110.892.316</td>\n",
       "      <td>(42.32324363</td>\n",
       "    </tr>\n",
       "    <tr>\n",
       "      <th>12</th>\n",
       "      <td>I182080041</td>\n",
       "      <td>3006</td>\n",
       "      <td>Medical Assistance</td>\n",
       "      <td>SICK/INJURED/MEDICAL - PERSON</td>\n",
       "      <td>E18</td>\n",
       "      <td>484</td>\n",
       "      <td>10.03.18 17:18</td>\n",
       "      <td>2018</td>\n",
       "      <td>10</td>\n",
       "      <td>Wednesday</td>\n",
       "      <td>17</td>\n",
       "      <td>Part Three</td>\n",
       "      <td>BELNEL RD</td>\n",
       "      <td>4.226.059.891</td>\n",
       "      <td>-711.030.614</td>\n",
       "      <td>(42.26059891</td>\n",
       "    </tr>\n",
       "    <tr>\n",
       "      <th>13</th>\n",
       "      <td>I182080040</td>\n",
       "      <td>3115</td>\n",
       "      <td>Investigate Person</td>\n",
       "      <td>INVESTIGATE PERSON</td>\n",
       "      <td>B3</td>\n",
       "      <td>427</td>\n",
       "      <td>10.03.18 8:00</td>\n",
       "      <td>2018</td>\n",
       "      <td>10</td>\n",
       "      <td>Wednesday</td>\n",
       "      <td>8</td>\n",
       "      <td>Part Three</td>\n",
       "      <td>ELIZABETH ST</td>\n",
       "      <td>4.227.986.526</td>\n",
       "      <td>-7.108.798.275</td>\n",
       "      <td>(42.27986526</td>\n",
       "    </tr>\n",
       "    <tr>\n",
       "      <th>14</th>\n",
       "      <td>I182080039</td>\n",
       "      <td>NaN</td>\n",
       "      <td>Medical Assistance</td>\n",
       "      <td>SICK/INJURED/MEDICAL - PERSON</td>\n",
       "      <td>B3</td>\n",
       "      <td>469</td>\n",
       "      <td>10.03.18 19:58</td>\n",
       "      <td>2018</td>\n",
       "      <td>10</td>\n",
       "      <td>Wednesday</td>\n",
       "      <td>19</td>\n",
       "      <td>Part Three</td>\n",
       "      <td>FOTTLER RD</td>\n",
       "      <td>4.227.791.927</td>\n",
       "      <td>-710.964.061</td>\n",
       "      <td>(42.27791927</td>\n",
       "    </tr>\n",
       "    <tr>\n",
       "      <th>15</th>\n",
       "      <td>I182080038</td>\n",
       "      <td>3831</td>\n",
       "      <td>Motor Vehicle Accident Response</td>\n",
       "      <td>M/V - LEAVING SCENE - PROPERTY DAMAGE</td>\n",
       "      <td>NaN</td>\n",
       "      <td></td>\n",
       "      <td>10.03.18 19:30</td>\n",
       "      <td>2018</td>\n",
       "      <td>10</td>\n",
       "      <td>Wednesday</td>\n",
       "      <td>19</td>\n",
       "      <td>Part Three</td>\n",
       "      <td>NaN</td>\n",
       "      <td>4.231.596.119</td>\n",
       "      <td>-7.109.042.564</td>\n",
       "      <td>(42.31596119</td>\n",
       "    </tr>\n",
       "    <tr>\n",
       "      <th>16</th>\n",
       "      <td>I182080037</td>\n",
       "      <td>2647</td>\n",
       "      <td>Other</td>\n",
       "      <td>THREATS TO DO BODILY HARM</td>\n",
       "      <td>C11</td>\n",
       "      <td>385</td>\n",
       "      <td>10.03.18 18:35</td>\n",
       "      <td>2018</td>\n",
       "      <td>10</td>\n",
       "      <td>Wednesday</td>\n",
       "      <td>18</td>\n",
       "      <td>Part Two</td>\n",
       "      <td>HALLET ST</td>\n",
       "      <td>4.228.076.737</td>\n",
       "      <td>-7.104.736.497</td>\n",
       "      <td>(42.28076737</td>\n",
       "    </tr>\n",
       "    <tr>\n",
       "      <th>17</th>\n",
       "      <td>I182080035</td>\n",
       "      <td>2647</td>\n",
       "      <td>Other</td>\n",
       "      <td>THREATS TO DO BODILY HARM</td>\n",
       "      <td>B2</td>\n",
       "      <td>326</td>\n",
       "      <td>10.03.18 19:56</td>\n",
       "      <td>2018</td>\n",
       "      <td>10</td>\n",
       "      <td>Wednesday</td>\n",
       "      <td>19</td>\n",
       "      <td>Part Two</td>\n",
       "      <td>DUNKELD ST</td>\n",
       "      <td>4.231.277.782</td>\n",
       "      <td>-7.107.562.922</td>\n",
       "      <td>(42.31277782</td>\n",
       "    </tr>\n",
       "    <tr>\n",
       "      <th>18</th>\n",
       "      <td>I182080034</td>\n",
       "      <td>3115</td>\n",
       "      <td>Investigate Person</td>\n",
       "      <td>INVESTIGATE PERSON</td>\n",
       "      <td>D4</td>\n",
       "      <td>626</td>\n",
       "      <td>10.03.18 18:41</td>\n",
       "      <td>2018</td>\n",
       "      <td>10</td>\n",
       "      <td>Wednesday</td>\n",
       "      <td>18</td>\n",
       "      <td>Part Three</td>\n",
       "      <td>KILMARNOCK ST</td>\n",
       "      <td>4.234.268.073</td>\n",
       "      <td>-7.109.937.714</td>\n",
       "      <td>(42.34268073</td>\n",
       "    </tr>\n",
       "    <tr>\n",
       "      <th>19</th>\n",
       "      <td>I182080031</td>\n",
       "      <td>3108</td>\n",
       "      <td>Fire Related Reports</td>\n",
       "      <td>FIRE REPORT - HOUSE</td>\n",
       "      <td>NaN</td>\n",
       "      <td>NaN</td>\n",
       "      <td>NaN</td>\n",
       "      <td>NaN</td>\n",
       "      <td>NaN</td>\n",
       "      <td>NaN</td>\n",
       "      <td>NaN</td>\n",
       "      <td>NaN</td>\n",
       "      <td>NaN</td>\n",
       "      <td>NaN</td>\n",
       "      <td>NaN</td>\n",
       "      <td>NaN</td>\n",
       "    </tr>\n",
       "  </tbody>\n",
       "</table>\n",
       "</div>"
      ],
      "text/plain": [
       "   INCIDENT_NUMBER OFFENSE_CODE               OFFENSE_CODE_GROUP  \\\n",
       "0       I182080058         2403               Disorderly Conduct   \n",
       "1       I182080053         3201                    Property Lost   \n",
       "2       I182080052         2647                            Other   \n",
       "3       I182080051          413               Aggravated Assault   \n",
       "4       I182080050         3122                         Aircraft   \n",
       "5       I182080049         1402                        Vandalism   \n",
       "6       I182080048         3803  Motor Vehicle Accident Response   \n",
       "7       I182080047         3301                  Verbal Disputes   \n",
       "8       I182080045          802                   Simple Assault   \n",
       "9       I182080044         3410                            Towed   \n",
       "10      I182080043         3803  Motor Vehicle Accident Response   \n",
       "11      I182080042          706                       Auto Theft   \n",
       "12      I182080041         3006               Medical Assistance   \n",
       "13      I182080040         3115               Investigate Person   \n",
       "14      I182080039          NaN               Medical Assistance   \n",
       "15      I182080038         3831  Motor Vehicle Accident Response   \n",
       "16      I182080037         2647                            Other   \n",
       "17      I182080035         2647                            Other   \n",
       "18      I182080034         3115               Investigate Person   \n",
       "19      I182080031         3108             Fire Related Reports   \n",
       "\n",
       "                      OFFENSE_DESCRIPTION DISTRICT REPORTING_AREA  \\\n",
       "0                    DISTURBING THE PEACE      E18            495   \n",
       "1                         PROPERTY - LOST      D14            795   \n",
       "2               THREATS TO DO BODILY HARM       B2            329   \n",
       "3          ASSAULT - AGGRAVATED - BATTERY       A1             92   \n",
       "4                      AIRCRAFT INCIDENTS       A7             36   \n",
       "5                               VANDALISM      C11            351   \n",
       "6          M/V ACCIDENT - PERSONAL INJURY      NaN                  \n",
       "7                          VERBAL DISPUTE       B2            603   \n",
       "8                ASSAULT SIMPLE - BATTERY      E18            543   \n",
       "9                     TOWED MOTOR VEHICLE       D4            621   \n",
       "10         M/V ACCIDENT - PERSONAL INJURY      D14            750   \n",
       "11      AUTO THEFT - MOTORCYCLE / SCOOTER      E13            582   \n",
       "12          SICK/INJURED/MEDICAL - PERSON      E18            484   \n",
       "13                     INVESTIGATE PERSON       B3            427   \n",
       "14          SICK/INJURED/MEDICAL - PERSON       B3            469   \n",
       "15  M/V - LEAVING SCENE - PROPERTY DAMAGE      NaN                  \n",
       "16              THREATS TO DO BODILY HARM      C11            385   \n",
       "17              THREATS TO DO BODILY HARM       B2            326   \n",
       "18                     INVESTIGATE PERSON       D4            626   \n",
       "19                    FIRE REPORT - HOUSE      NaN            NaN   \n",
       "\n",
       "          OCCURRED_ON_DATE  YEAR MONTH DAY_OF_WEEK HOUR    UCR_PART  \\\n",
       "0           10.03.18 20:13  2018    10   Wednesday   20    Part Two   \n",
       "1          8/30/2018 20:00  2018     8    Thursday   20  Part Three   \n",
       "2           10.03.18 19:20  2018    10   Wednesday   19    Part Two   \n",
       "3           10.03.18 20:00  2018    10   Wednesday   20    Part One   \n",
       "4           10.03.18 20:49  2018    10         WED   20  Part Three   \n",
       "5           10.02.18 20:40  2018    10     Tuesday   20    Part Two   \n",
       "6           10.03.18 20:16  2018    10   Wednesday   20  Part Three   \n",
       "7           10.03.18 19:32  2018    10   Wednesday   19  Part Three   \n",
       "8           10.03.18 19:27  2018    10   Wednesday   19    Part Two   \n",
       "9           10.03.18 20:00  2018    10   Wednesday   20  Part Three   \n",
       "10  10/3/2018  99:33:00 PM  2018    10   Wednesday   19  Part Three   \n",
       "11          10.01.18 20:00  2018    10      MONDAY   20    Part One   \n",
       "12          10.03.18 17:18  2018    10   Wednesday   17  Part Three   \n",
       "13           10.03.18 8:00  2018    10   Wednesday    8  Part Three   \n",
       "14          10.03.18 19:58  2018    10   Wednesday   19  Part Three   \n",
       "15          10.03.18 19:30  2018    10   Wednesday   19  Part Three   \n",
       "16          10.03.18 18:35  2018    10   Wednesday   18    Part Two   \n",
       "17          10.03.18 19:56  2018    10   Wednesday   19    Part Two   \n",
       "18          10.03.18 18:41  2018    10   Wednesday   18  Part Three   \n",
       "19                     NaN   NaN   NaN         NaN  NaN         NaN   \n",
       "\n",
       "              STREET            Lat            Long      Location  \n",
       "0       ARLINGTON ST  4.226.260.773  -7.112.118.637  (42.26260773  \n",
       "1         ALLSTON ST  4.235.211.146  -7.113.531.147  (42.35211146  \n",
       "2           DEVON ST  4.230.812.619  -7.107.692.974  (42.30812619  \n",
       "3       CAMBRIDGE ST  4.235.945.371  -7.105.964.817  (42.35945371  \n",
       "4        PRESCOTT ST  4.237.525.782  -7.102.466.343  (42.37525782  \n",
       "5     DORCHESTER AVE  4.229.919.694  -7.106.046.974  (42.29919694  \n",
       "6                NaN  4.232.073.413  -7.105.676.415  (42.32073413  \n",
       "7         TREMONT ST  4.233.380.683  -7.110.377.843  (42.33380683  \n",
       "8           AVILA RD  4.225.614.494  -7.112.802.506  (42.25614494  \n",
       "9   COMMONWEALTH AVE     42.348.866  -7.108.936.284  (42.34886600  \n",
       "10         FOSTER ST  4.234.432.328  -7.115.778.368  (42.34432328  \n",
       "11         BYNNER ST  4.232.324.363  -7.110.892.316  (42.32324363  \n",
       "12         BELNEL RD  4.226.059.891    -711.030.614  (42.26059891  \n",
       "13      ELIZABETH ST  4.227.986.526  -7.108.798.275  (42.27986526  \n",
       "14        FOTTLER RD  4.227.791.927    -710.964.061  (42.27791927  \n",
       "15               NaN  4.231.596.119  -7.109.042.564  (42.31596119  \n",
       "16         HALLET ST  4.228.076.737  -7.104.736.497  (42.28076737  \n",
       "17        DUNKELD ST  4.231.277.782  -7.107.562.922  (42.31277782  \n",
       "18     KILMARNOCK ST  4.234.268.073  -7.109.937.714  (42.34268073  \n",
       "19               NaN            NaN             NaN           NaN  "
      ]
     },
     "execution_count": 82,
     "metadata": {},
     "output_type": "execute_result"
    }
   ],
   "source": [
    "df_mongo"
   ]
  },
  {
   "cell_type": "code",
   "execution_count": 83,
   "metadata": {},
   "outputs": [],
   "source": [
    "db = conn['Boston-database']\n",
    "collection = db['Boston-collection']\n",
    "posts = db.posts"
   ]
  },
  {
   "cell_type": "code",
   "execution_count": 84,
   "metadata": {},
   "outputs": [],
   "source": [
    "df_mongo.reset_index(inplace=True)\n",
    "data_dict = df_mongo.to_dict(\"records\")"
   ]
  },
  {
   "cell_type": "code",
   "execution_count": 85,
   "metadata": {},
   "outputs": [
    {
     "data": {
      "text/plain": [
       "<pymongo.results.InsertManyResult at 0x122ee67c8>"
      ]
     },
     "execution_count": 85,
     "metadata": {},
     "output_type": "execute_result"
    }
   ],
   "source": [
    "collection.insert_many(data_dict)"
   ]
  },
  {
   "cell_type": "code",
   "execution_count": 86,
   "metadata": {},
   "outputs": [
    {
     "name": "stdout",
     "output_type": "stream",
     "text": [
      "{'_id': ObjectId('5fd339fc598799f3745b2d7f'), 'index': 0, 'INCIDENT_NUMBER': 'I182080058', 'OFFENSE_CODE': '2403', 'OFFENSE_CODE_GROUP': 'Disorderly Conduct', 'OFFENSE_DESCRIPTION': 'DISTURBING THE PEACE', 'DISTRICT': 'E18', 'REPORTING_AREA': '495', 'OCCURRED_ON_DATE': '10.03.18 20:13', 'YEAR': '2018', 'MONTH': '10', 'DAY_OF_WEEK': 'Wednesday', 'HOUR': '20', 'UCR_PART': 'Part Two', 'STREET': 'ARLINGTON ST', 'Lat': '4.226.260.773', 'Long': '-7.112.118.637', 'Location': '(42.26260773'}\n",
      "{'_id': ObjectId('5fd339fc598799f3745b2d80'), 'index': 1, 'INCIDENT_NUMBER': 'I182080053', 'OFFENSE_CODE': '3201', 'OFFENSE_CODE_GROUP': 'Property Lost', 'OFFENSE_DESCRIPTION': 'PROPERTY - LOST', 'DISTRICT': 'D14', 'REPORTING_AREA': '795', 'OCCURRED_ON_DATE': '8/30/2018 20:00', 'YEAR': '2018', 'MONTH': '8', 'DAY_OF_WEEK': 'Thursday', 'HOUR': '20', 'UCR_PART': 'Part Three', 'STREET': 'ALLSTON ST', 'Lat': '4.235.211.146', 'Long': '-7.113.531.147', 'Location': '(42.35211146'}\n",
      "{'_id': ObjectId('5fd339fc598799f3745b2d81'), 'index': 2, 'INCIDENT_NUMBER': 'I182080052', 'OFFENSE_CODE': '2647', 'OFFENSE_CODE_GROUP': 'Other', 'OFFENSE_DESCRIPTION': 'THREATS TO DO BODILY HARM', 'DISTRICT': 'B2', 'REPORTING_AREA': '329', 'OCCURRED_ON_DATE': '10.03.18 19:20', 'YEAR': '2018', 'MONTH': '10', 'DAY_OF_WEEK': 'Wednesday', 'HOUR': '19', 'UCR_PART': 'Part Two', 'STREET': 'DEVON ST', 'Lat': '4.230.812.619', 'Long': '-7.107.692.974', 'Location': '(42.30812619'}\n",
      "{'_id': ObjectId('5fd339fc598799f3745b2d82'), 'index': 3, 'INCIDENT_NUMBER': 'I182080051', 'OFFENSE_CODE': '413', 'OFFENSE_CODE_GROUP': 'Aggravated Assault', 'OFFENSE_DESCRIPTION': 'ASSAULT - AGGRAVATED - BATTERY', 'DISTRICT': 'A1', 'REPORTING_AREA': '92', 'OCCURRED_ON_DATE': '10.03.18 20:00', 'YEAR': '2018', 'MONTH': '10', 'DAY_OF_WEEK': 'Wednesday', 'HOUR': '20', 'UCR_PART': 'Part One', 'STREET': 'CAMBRIDGE ST', 'Lat': '4.235.945.371', 'Long': '-7.105.964.817', 'Location': '(42.35945371'}\n",
      "{'_id': ObjectId('5fd339fc598799f3745b2d83'), 'index': 4, 'INCIDENT_NUMBER': 'I182080050', 'OFFENSE_CODE': '3122', 'OFFENSE_CODE_GROUP': 'Aircraft', 'OFFENSE_DESCRIPTION': 'AIRCRAFT INCIDENTS', 'DISTRICT': 'A7', 'REPORTING_AREA': '36', 'OCCURRED_ON_DATE': '10.03.18 20:49', 'YEAR': '2018', 'MONTH': '10', 'DAY_OF_WEEK': 'WED', 'HOUR': '20', 'UCR_PART': 'Part Three', 'STREET': 'PRESCOTT ST', 'Lat': '4.237.525.782', 'Long': '-7.102.466.343', 'Location': '(42.37525782'}\n",
      "{'_id': ObjectId('5fd339fc598799f3745b2d84'), 'index': 5, 'INCIDENT_NUMBER': 'I182080049', 'OFFENSE_CODE': '1402', 'OFFENSE_CODE_GROUP': 'Vandalism', 'OFFENSE_DESCRIPTION': 'VANDALISM', 'DISTRICT': 'C11', 'REPORTING_AREA': '351', 'OCCURRED_ON_DATE': '10.02.18 20:40', 'YEAR': '2018', 'MONTH': '10', 'DAY_OF_WEEK': 'Tuesday', 'HOUR': '20', 'UCR_PART': 'Part Two', 'STREET': 'DORCHESTER AVE', 'Lat': '4.229.919.694', 'Long': '-7.106.046.974', 'Location': '(42.29919694'}\n",
      "{'_id': ObjectId('5fd339fc598799f3745b2d85'), 'index': 6, 'INCIDENT_NUMBER': 'I182080048', 'OFFENSE_CODE': '3803', 'OFFENSE_CODE_GROUP': 'Motor Vehicle Accident Response', 'OFFENSE_DESCRIPTION': 'M/V ACCIDENT - PERSONAL INJURY', 'DISTRICT': nan, 'REPORTING_AREA': ' ', 'OCCURRED_ON_DATE': '10.03.18 20:16', 'YEAR': '2018', 'MONTH': '10', 'DAY_OF_WEEK': 'Wednesday', 'HOUR': '20', 'UCR_PART': 'Part Three', 'STREET': nan, 'Lat': '4.232.073.413', 'Long': '-7.105.676.415', 'Location': '(42.32073413'}\n",
      "{'_id': ObjectId('5fd339fc598799f3745b2d86'), 'index': 7, 'INCIDENT_NUMBER': 'I182080047', 'OFFENSE_CODE': '3301', 'OFFENSE_CODE_GROUP': 'Verbal Disputes', 'OFFENSE_DESCRIPTION': 'VERBAL DISPUTE', 'DISTRICT': 'B2', 'REPORTING_AREA': '603', 'OCCURRED_ON_DATE': '10.03.18 19:32', 'YEAR': '2018', 'MONTH': '10', 'DAY_OF_WEEK': 'Wednesday', 'HOUR': '19', 'UCR_PART': 'Part Three', 'STREET': 'TREMONT ST', 'Lat': '4.233.380.683', 'Long': '-7.110.377.843', 'Location': '(42.33380683'}\n",
      "{'_id': ObjectId('5fd339fc598799f3745b2d87'), 'index': 8, 'INCIDENT_NUMBER': 'I182080045', 'OFFENSE_CODE': '802', 'OFFENSE_CODE_GROUP': 'Simple Assault', 'OFFENSE_DESCRIPTION': 'ASSAULT SIMPLE - BATTERY', 'DISTRICT': 'E18', 'REPORTING_AREA': '543', 'OCCURRED_ON_DATE': '10.03.18 19:27', 'YEAR': '2018', 'MONTH': '10', 'DAY_OF_WEEK': 'Wednesday', 'HOUR': '19', 'UCR_PART': 'Part Two', 'STREET': 'AVILA RD', 'Lat': '4.225.614.494', 'Long': '-7.112.802.506', 'Location': '(42.25614494'}\n",
      "{'_id': ObjectId('5fd339fc598799f3745b2d88'), 'index': 9, 'INCIDENT_NUMBER': 'I182080044', 'OFFENSE_CODE': '3410', 'OFFENSE_CODE_GROUP': 'Towed', 'OFFENSE_DESCRIPTION': 'TOWED MOTOR VEHICLE', 'DISTRICT': 'D4', 'REPORTING_AREA': '621', 'OCCURRED_ON_DATE': '10.03.18 20:00', 'YEAR': '2018', 'MONTH': '10', 'DAY_OF_WEEK': 'Wednesday', 'HOUR': '20', 'UCR_PART': 'Part Three', 'STREET': 'COMMONWEALTH AVE', 'Lat': '42.348.866', 'Long': '-7.108.936.284', 'Location': '(42.34886600'}\n",
      "{'_id': ObjectId('5fd339fc598799f3745b2d89'), 'index': 10, 'INCIDENT_NUMBER': 'I182080043', 'OFFENSE_CODE': '3803', 'OFFENSE_CODE_GROUP': 'Motor Vehicle Accident Response', 'OFFENSE_DESCRIPTION': 'M/V ACCIDENT - PERSONAL INJURY', 'DISTRICT': 'D14', 'REPORTING_AREA': '750', 'OCCURRED_ON_DATE': '10/3/2018  99:33:00 PM', 'YEAR': '2018', 'MONTH': '10', 'DAY_OF_WEEK': 'Wednesday', 'HOUR': '19', 'UCR_PART': 'Part Three', 'STREET': 'FOSTER ST', 'Lat': '4.234.432.328', 'Long': '-7.115.778.368', 'Location': '(42.34432328'}\n",
      "{'_id': ObjectId('5fd339fc598799f3745b2d8a'), 'index': 11, 'INCIDENT_NUMBER': 'I182080042', 'OFFENSE_CODE': '706', 'OFFENSE_CODE_GROUP': 'Auto Theft', 'OFFENSE_DESCRIPTION': 'AUTO THEFT - MOTORCYCLE / SCOOTER', 'DISTRICT': 'E13', 'REPORTING_AREA': '582', 'OCCURRED_ON_DATE': '10.01.18 20:00', 'YEAR': '2018', 'MONTH': '10', 'DAY_OF_WEEK': 'MONDAY', 'HOUR': '20', 'UCR_PART': 'Part One', 'STREET': 'BYNNER ST', 'Lat': '4.232.324.363', 'Long': '-7.110.892.316', 'Location': '(42.32324363'}\n",
      "{'_id': ObjectId('5fd339fc598799f3745b2d8b'), 'index': 12, 'INCIDENT_NUMBER': 'I182080041', 'OFFENSE_CODE': '3006', 'OFFENSE_CODE_GROUP': 'Medical Assistance', 'OFFENSE_DESCRIPTION': 'SICK/INJURED/MEDICAL - PERSON', 'DISTRICT': 'E18', 'REPORTING_AREA': '484', 'OCCURRED_ON_DATE': '10.03.18 17:18', 'YEAR': '2018', 'MONTH': '10', 'DAY_OF_WEEK': 'Wednesday', 'HOUR': '17', 'UCR_PART': 'Part Three', 'STREET': 'BELNEL RD', 'Lat': '4.226.059.891', 'Long': '-711.030.614', 'Location': '(42.26059891'}\n",
      "{'_id': ObjectId('5fd339fc598799f3745b2d8c'), 'index': 13, 'INCIDENT_NUMBER': 'I182080040', 'OFFENSE_CODE': '3115', 'OFFENSE_CODE_GROUP': 'Investigate Person', 'OFFENSE_DESCRIPTION': 'INVESTIGATE PERSON', 'DISTRICT': 'B3', 'REPORTING_AREA': '427', 'OCCURRED_ON_DATE': '10.03.18 8:00', 'YEAR': '2018', 'MONTH': '10', 'DAY_OF_WEEK': 'Wednesday', 'HOUR': '8', 'UCR_PART': 'Part Three', 'STREET': 'ELIZABETH ST', 'Lat': '4.227.986.526', 'Long': '-7.108.798.275', 'Location': '(42.27986526'}\n",
      "{'_id': ObjectId('5fd339fc598799f3745b2d8d'), 'index': 14, 'INCIDENT_NUMBER': 'I182080039', 'OFFENSE_CODE': nan, 'OFFENSE_CODE_GROUP': 'Medical Assistance', 'OFFENSE_DESCRIPTION': 'SICK/INJURED/MEDICAL - PERSON', 'DISTRICT': 'B3', 'REPORTING_AREA': '469', 'OCCURRED_ON_DATE': '10.03.18 19:58', 'YEAR': '2018', 'MONTH': '10', 'DAY_OF_WEEK': 'Wednesday', 'HOUR': '19', 'UCR_PART': 'Part Three', 'STREET': 'FOTTLER RD', 'Lat': '4.227.791.927', 'Long': '-710.964.061', 'Location': '(42.27791927'}\n",
      "{'_id': ObjectId('5fd339fc598799f3745b2d8e'), 'index': 15, 'INCIDENT_NUMBER': 'I182080038', 'OFFENSE_CODE': '3831', 'OFFENSE_CODE_GROUP': 'Motor Vehicle Accident Response', 'OFFENSE_DESCRIPTION': 'M/V - LEAVING SCENE - PROPERTY DAMAGE', 'DISTRICT': nan, 'REPORTING_AREA': ' ', 'OCCURRED_ON_DATE': '10.03.18 19:30', 'YEAR': '2018', 'MONTH': '10', 'DAY_OF_WEEK': 'Wednesday', 'HOUR': '19', 'UCR_PART': 'Part Three', 'STREET': nan, 'Lat': '4.231.596.119', 'Long': '-7.109.042.564', 'Location': '(42.31596119'}\n",
      "{'_id': ObjectId('5fd339fc598799f3745b2d8f'), 'index': 16, 'INCIDENT_NUMBER': 'I182080037', 'OFFENSE_CODE': '2647', 'OFFENSE_CODE_GROUP': 'Other', 'OFFENSE_DESCRIPTION': 'THREATS TO DO BODILY HARM', 'DISTRICT': 'C11', 'REPORTING_AREA': '385', 'OCCURRED_ON_DATE': '10.03.18 18:35', 'YEAR': '2018', 'MONTH': '10', 'DAY_OF_WEEK': 'Wednesday', 'HOUR': '18', 'UCR_PART': 'Part Two', 'STREET': 'HALLET ST', 'Lat': '4.228.076.737', 'Long': '-7.104.736.497', 'Location': '(42.28076737'}\n",
      "{'_id': ObjectId('5fd339fc598799f3745b2d90'), 'index': 17, 'INCIDENT_NUMBER': 'I182080035', 'OFFENSE_CODE': '2647', 'OFFENSE_CODE_GROUP': 'Other', 'OFFENSE_DESCRIPTION': 'THREATS TO DO BODILY HARM', 'DISTRICT': 'B2', 'REPORTING_AREA': '326', 'OCCURRED_ON_DATE': '10.03.18 19:56', 'YEAR': '2018', 'MONTH': '10', 'DAY_OF_WEEK': 'Wednesday', 'HOUR': '19', 'UCR_PART': 'Part Two', 'STREET': 'DUNKELD ST', 'Lat': '4.231.277.782', 'Long': '-7.107.562.922', 'Location': '(42.31277782'}\n",
      "{'_id': ObjectId('5fd339fc598799f3745b2d91'), 'index': 18, 'INCIDENT_NUMBER': 'I182080034', 'OFFENSE_CODE': '3115', 'OFFENSE_CODE_GROUP': 'Investigate Person', 'OFFENSE_DESCRIPTION': 'INVESTIGATE PERSON', 'DISTRICT': 'D4', 'REPORTING_AREA': '626', 'OCCURRED_ON_DATE': '10.03.18 18:41', 'YEAR': '2018', 'MONTH': '10', 'DAY_OF_WEEK': 'Wednesday', 'HOUR': '18', 'UCR_PART': 'Part Three', 'STREET': 'KILMARNOCK ST', 'Lat': '4.234.268.073', 'Long': '-7.109.937.714', 'Location': '(42.34268073'}\n",
      "{'_id': ObjectId('5fd339fc598799f3745b2d92'), 'index': 19, 'INCIDENT_NUMBER': 'I182080031', 'OFFENSE_CODE': '3108', 'OFFENSE_CODE_GROUP': 'Fire Related Reports', 'OFFENSE_DESCRIPTION': 'FIRE REPORT - HOUSE', 'DISTRICT': nan, 'REPORTING_AREA': nan, 'OCCURRED_ON_DATE': nan, 'YEAR': nan, 'MONTH': nan, 'DAY_OF_WEEK': nan, 'HOUR': nan, 'UCR_PART': nan, 'STREET': nan, 'Lat': nan, 'Long': nan, 'Location': nan}\n",
      "{'_id': ObjectId('5fe05e06598799f3745b2d9b'), 'index': 0, 'INCIDENT_NUMBER': 'I182080058', 'OFFENSE_CODE': '2403', 'OFFENSE_CODE_GROUP': 'Disorderly Conduct', 'OFFENSE_DESCRIPTION': 'DISTURBING THE PEACE', 'DISTRICT': 'E18', 'REPORTING_AREA': '495', 'OCCURRED_ON_DATE': '10.03.18 20:13', 'YEAR': '2018', 'MONTH': '10', 'DAY_OF_WEEK': 'Wednesday', 'HOUR': '20', 'UCR_PART': 'Part Two', 'STREET': 'ARLINGTON ST', 'Lat': '4.226.260.773', 'Long': '-7.112.118.637', 'Location': '(42.26260773'}\n",
      "{'_id': ObjectId('5fe05e06598799f3745b2d9c'), 'index': 1, 'INCIDENT_NUMBER': 'I182080053', 'OFFENSE_CODE': '3201', 'OFFENSE_CODE_GROUP': 'Property Lost', 'OFFENSE_DESCRIPTION': 'PROPERTY - LOST', 'DISTRICT': 'D14', 'REPORTING_AREA': '795', 'OCCURRED_ON_DATE': '8/30/2018 20:00', 'YEAR': '2018', 'MONTH': '8', 'DAY_OF_WEEK': 'Thursday', 'HOUR': '20', 'UCR_PART': 'Part Three', 'STREET': 'ALLSTON ST', 'Lat': '4.235.211.146', 'Long': '-7.113.531.147', 'Location': '(42.35211146'}\n",
      "{'_id': ObjectId('5fe05e06598799f3745b2d9d'), 'index': 2, 'INCIDENT_NUMBER': 'I182080052', 'OFFENSE_CODE': '2647', 'OFFENSE_CODE_GROUP': 'Other', 'OFFENSE_DESCRIPTION': 'THREATS TO DO BODILY HARM', 'DISTRICT': 'B2', 'REPORTING_AREA': '329', 'OCCURRED_ON_DATE': '10.03.18 19:20', 'YEAR': '2018', 'MONTH': '10', 'DAY_OF_WEEK': 'Wednesday', 'HOUR': '19', 'UCR_PART': 'Part Two', 'STREET': 'DEVON ST', 'Lat': '4.230.812.619', 'Long': '-7.107.692.974', 'Location': '(42.30812619'}\n",
      "{'_id': ObjectId('5fe05e06598799f3745b2d9e'), 'index': 3, 'INCIDENT_NUMBER': 'I182080051', 'OFFENSE_CODE': '413', 'OFFENSE_CODE_GROUP': 'Aggravated Assault', 'OFFENSE_DESCRIPTION': 'ASSAULT - AGGRAVATED - BATTERY', 'DISTRICT': 'A1', 'REPORTING_AREA': '92', 'OCCURRED_ON_DATE': '10.03.18 20:00', 'YEAR': '2018', 'MONTH': '10', 'DAY_OF_WEEK': 'Wednesday', 'HOUR': '20', 'UCR_PART': 'Part One', 'STREET': 'CAMBRIDGE ST', 'Lat': '4.235.945.371', 'Long': '-7.105.964.817', 'Location': '(42.35945371'}\n",
      "{'_id': ObjectId('5fe05e06598799f3745b2d9f'), 'index': 4, 'INCIDENT_NUMBER': 'I182080050', 'OFFENSE_CODE': '3122', 'OFFENSE_CODE_GROUP': 'Aircraft', 'OFFENSE_DESCRIPTION': 'AIRCRAFT INCIDENTS', 'DISTRICT': 'A7', 'REPORTING_AREA': '36', 'OCCURRED_ON_DATE': '10.03.18 20:49', 'YEAR': '2018', 'MONTH': '10', 'DAY_OF_WEEK': 'WED', 'HOUR': '20', 'UCR_PART': 'Part Three', 'STREET': 'PRESCOTT ST', 'Lat': '4.237.525.782', 'Long': '-7.102.466.343', 'Location': '(42.37525782'}\n",
      "{'_id': ObjectId('5fe05e06598799f3745b2da0'), 'index': 5, 'INCIDENT_NUMBER': 'I182080049', 'OFFENSE_CODE': '1402', 'OFFENSE_CODE_GROUP': 'Vandalism', 'OFFENSE_DESCRIPTION': 'VANDALISM', 'DISTRICT': 'C11', 'REPORTING_AREA': '351', 'OCCURRED_ON_DATE': '10.02.18 20:40', 'YEAR': '2018', 'MONTH': '10', 'DAY_OF_WEEK': 'Tuesday', 'HOUR': '20', 'UCR_PART': 'Part Two', 'STREET': 'DORCHESTER AVE', 'Lat': '4.229.919.694', 'Long': '-7.106.046.974', 'Location': '(42.29919694'}\n",
      "{'_id': ObjectId('5fe05e06598799f3745b2da1'), 'index': 6, 'INCIDENT_NUMBER': 'I182080048', 'OFFENSE_CODE': '3803', 'OFFENSE_CODE_GROUP': 'Motor Vehicle Accident Response', 'OFFENSE_DESCRIPTION': 'M/V ACCIDENT - PERSONAL INJURY', 'DISTRICT': nan, 'REPORTING_AREA': ' ', 'OCCURRED_ON_DATE': '10.03.18 20:16', 'YEAR': '2018', 'MONTH': '10', 'DAY_OF_WEEK': 'Wednesday', 'HOUR': '20', 'UCR_PART': 'Part Three', 'STREET': nan, 'Lat': '4.232.073.413', 'Long': '-7.105.676.415', 'Location': '(42.32073413'}\n",
      "{'_id': ObjectId('5fe05e06598799f3745b2da2'), 'index': 7, 'INCIDENT_NUMBER': 'I182080047', 'OFFENSE_CODE': '3301', 'OFFENSE_CODE_GROUP': 'Verbal Disputes', 'OFFENSE_DESCRIPTION': 'VERBAL DISPUTE', 'DISTRICT': 'B2', 'REPORTING_AREA': '603', 'OCCURRED_ON_DATE': '10.03.18 19:32', 'YEAR': '2018', 'MONTH': '10', 'DAY_OF_WEEK': 'Wednesday', 'HOUR': '19', 'UCR_PART': 'Part Three', 'STREET': 'TREMONT ST', 'Lat': '4.233.380.683', 'Long': '-7.110.377.843', 'Location': '(42.33380683'}\n",
      "{'_id': ObjectId('5fe05e06598799f3745b2da3'), 'index': 8, 'INCIDENT_NUMBER': 'I182080045', 'OFFENSE_CODE': '802', 'OFFENSE_CODE_GROUP': 'Simple Assault', 'OFFENSE_DESCRIPTION': 'ASSAULT SIMPLE - BATTERY', 'DISTRICT': 'E18', 'REPORTING_AREA': '543', 'OCCURRED_ON_DATE': '10.03.18 19:27', 'YEAR': '2018', 'MONTH': '10', 'DAY_OF_WEEK': 'Wednesday', 'HOUR': '19', 'UCR_PART': 'Part Two', 'STREET': 'AVILA RD', 'Lat': '4.225.614.494', 'Long': '-7.112.802.506', 'Location': '(42.25614494'}\n",
      "{'_id': ObjectId('5fe05e06598799f3745b2da4'), 'index': 9, 'INCIDENT_NUMBER': 'I182080044', 'OFFENSE_CODE': '3410', 'OFFENSE_CODE_GROUP': 'Towed', 'OFFENSE_DESCRIPTION': 'TOWED MOTOR VEHICLE', 'DISTRICT': 'D4', 'REPORTING_AREA': '621', 'OCCURRED_ON_DATE': '10.03.18 20:00', 'YEAR': '2018', 'MONTH': '10', 'DAY_OF_WEEK': 'Wednesday', 'HOUR': '20', 'UCR_PART': 'Part Three', 'STREET': 'COMMONWEALTH AVE', 'Lat': '42.348.866', 'Long': '-7.108.936.284', 'Location': '(42.34886600'}\n",
      "{'_id': ObjectId('5fe05e06598799f3745b2da5'), 'index': 10, 'INCIDENT_NUMBER': 'I182080043', 'OFFENSE_CODE': '3803', 'OFFENSE_CODE_GROUP': 'Motor Vehicle Accident Response', 'OFFENSE_DESCRIPTION': 'M/V ACCIDENT - PERSONAL INJURY', 'DISTRICT': 'D14', 'REPORTING_AREA': '750', 'OCCURRED_ON_DATE': '10/3/2018  99:33:00 PM', 'YEAR': '2018', 'MONTH': '10', 'DAY_OF_WEEK': 'Wednesday', 'HOUR': '19', 'UCR_PART': 'Part Three', 'STREET': 'FOSTER ST', 'Lat': '4.234.432.328', 'Long': '-7.115.778.368', 'Location': '(42.34432328'}\n",
      "{'_id': ObjectId('5fe05e06598799f3745b2da6'), 'index': 11, 'INCIDENT_NUMBER': 'I182080042', 'OFFENSE_CODE': '706', 'OFFENSE_CODE_GROUP': 'Auto Theft', 'OFFENSE_DESCRIPTION': 'AUTO THEFT - MOTORCYCLE / SCOOTER', 'DISTRICT': 'E13', 'REPORTING_AREA': '582', 'OCCURRED_ON_DATE': '10.01.18 20:00', 'YEAR': '2018', 'MONTH': '10', 'DAY_OF_WEEK': 'MONDAY', 'HOUR': '20', 'UCR_PART': 'Part One', 'STREET': 'BYNNER ST', 'Lat': '4.232.324.363', 'Long': '-7.110.892.316', 'Location': '(42.32324363'}\n",
      "{'_id': ObjectId('5fe05e06598799f3745b2da7'), 'index': 12, 'INCIDENT_NUMBER': 'I182080041', 'OFFENSE_CODE': '3006', 'OFFENSE_CODE_GROUP': 'Medical Assistance', 'OFFENSE_DESCRIPTION': 'SICK/INJURED/MEDICAL - PERSON', 'DISTRICT': 'E18', 'REPORTING_AREA': '484', 'OCCURRED_ON_DATE': '10.03.18 17:18', 'YEAR': '2018', 'MONTH': '10', 'DAY_OF_WEEK': 'Wednesday', 'HOUR': '17', 'UCR_PART': 'Part Three', 'STREET': 'BELNEL RD', 'Lat': '4.226.059.891', 'Long': '-711.030.614', 'Location': '(42.26059891'}\n",
      "{'_id': ObjectId('5fe05e06598799f3745b2da8'), 'index': 13, 'INCIDENT_NUMBER': 'I182080040', 'OFFENSE_CODE': '3115', 'OFFENSE_CODE_GROUP': 'Investigate Person', 'OFFENSE_DESCRIPTION': 'INVESTIGATE PERSON', 'DISTRICT': 'B3', 'REPORTING_AREA': '427', 'OCCURRED_ON_DATE': '10.03.18 8:00', 'YEAR': '2018', 'MONTH': '10', 'DAY_OF_WEEK': 'Wednesday', 'HOUR': '8', 'UCR_PART': 'Part Three', 'STREET': 'ELIZABETH ST', 'Lat': '4.227.986.526', 'Long': '-7.108.798.275', 'Location': '(42.27986526'}\n",
      "{'_id': ObjectId('5fe05e06598799f3745b2da9'), 'index': 14, 'INCIDENT_NUMBER': 'I182080039', 'OFFENSE_CODE': nan, 'OFFENSE_CODE_GROUP': 'Medical Assistance', 'OFFENSE_DESCRIPTION': 'SICK/INJURED/MEDICAL - PERSON', 'DISTRICT': 'B3', 'REPORTING_AREA': '469', 'OCCURRED_ON_DATE': '10.03.18 19:58', 'YEAR': '2018', 'MONTH': '10', 'DAY_OF_WEEK': 'Wednesday', 'HOUR': '19', 'UCR_PART': 'Part Three', 'STREET': 'FOTTLER RD', 'Lat': '4.227.791.927', 'Long': '-710.964.061', 'Location': '(42.27791927'}\n",
      "{'_id': ObjectId('5fe05e06598799f3745b2daa'), 'index': 15, 'INCIDENT_NUMBER': 'I182080038', 'OFFENSE_CODE': '3831', 'OFFENSE_CODE_GROUP': 'Motor Vehicle Accident Response', 'OFFENSE_DESCRIPTION': 'M/V - LEAVING SCENE - PROPERTY DAMAGE', 'DISTRICT': nan, 'REPORTING_AREA': ' ', 'OCCURRED_ON_DATE': '10.03.18 19:30', 'YEAR': '2018', 'MONTH': '10', 'DAY_OF_WEEK': 'Wednesday', 'HOUR': '19', 'UCR_PART': 'Part Three', 'STREET': nan, 'Lat': '4.231.596.119', 'Long': '-7.109.042.564', 'Location': '(42.31596119'}\n",
      "{'_id': ObjectId('5fe05e06598799f3745b2dab'), 'index': 16, 'INCIDENT_NUMBER': 'I182080037', 'OFFENSE_CODE': '2647', 'OFFENSE_CODE_GROUP': 'Other', 'OFFENSE_DESCRIPTION': 'THREATS TO DO BODILY HARM', 'DISTRICT': 'C11', 'REPORTING_AREA': '385', 'OCCURRED_ON_DATE': '10.03.18 18:35', 'YEAR': '2018', 'MONTH': '10', 'DAY_OF_WEEK': 'Wednesday', 'HOUR': '18', 'UCR_PART': 'Part Two', 'STREET': 'HALLET ST', 'Lat': '4.228.076.737', 'Long': '-7.104.736.497', 'Location': '(42.28076737'}\n",
      "{'_id': ObjectId('5fe05e06598799f3745b2dac'), 'index': 17, 'INCIDENT_NUMBER': 'I182080035', 'OFFENSE_CODE': '2647', 'OFFENSE_CODE_GROUP': 'Other', 'OFFENSE_DESCRIPTION': 'THREATS TO DO BODILY HARM', 'DISTRICT': 'B2', 'REPORTING_AREA': '326', 'OCCURRED_ON_DATE': '10.03.18 19:56', 'YEAR': '2018', 'MONTH': '10', 'DAY_OF_WEEK': 'Wednesday', 'HOUR': '19', 'UCR_PART': 'Part Two', 'STREET': 'DUNKELD ST', 'Lat': '4.231.277.782', 'Long': '-7.107.562.922', 'Location': '(42.31277782'}\n",
      "{'_id': ObjectId('5fe05e06598799f3745b2dad'), 'index': 18, 'INCIDENT_NUMBER': 'I182080034', 'OFFENSE_CODE': '3115', 'OFFENSE_CODE_GROUP': 'Investigate Person', 'OFFENSE_DESCRIPTION': 'INVESTIGATE PERSON', 'DISTRICT': 'D4', 'REPORTING_AREA': '626', 'OCCURRED_ON_DATE': '10.03.18 18:41', 'YEAR': '2018', 'MONTH': '10', 'DAY_OF_WEEK': 'Wednesday', 'HOUR': '18', 'UCR_PART': 'Part Three', 'STREET': 'KILMARNOCK ST', 'Lat': '4.234.268.073', 'Long': '-7.109.937.714', 'Location': '(42.34268073'}\n",
      "{'_id': ObjectId('5fe05e06598799f3745b2dae'), 'index': 19, 'INCIDENT_NUMBER': 'I182080031', 'OFFENSE_CODE': '3108', 'OFFENSE_CODE_GROUP': 'Fire Related Reports', 'OFFENSE_DESCRIPTION': 'FIRE REPORT - HOUSE', 'DISTRICT': nan, 'REPORTING_AREA': nan, 'OCCURRED_ON_DATE': nan, 'YEAR': nan, 'MONTH': nan, 'DAY_OF_WEEK': nan, 'HOUR': nan, 'UCR_PART': nan, 'STREET': nan, 'Lat': nan, 'Long': nan, 'Location': nan}\n"
     ]
    }
   ],
   "source": [
    "x=collection.find()\n",
    "for data in x: \n",
    "    print(data)"
   ]
  },
  {
   "cell_type": "code",
   "execution_count": 87,
   "metadata": {},
   "outputs": [
    {
     "name": "stdout",
     "output_type": "stream",
     "text": [
      "{'_id': ObjectId('5fd339fc598799f3745b2d85'), 'index': 6, 'INCIDENT_NUMBER': 'I182080048', 'OFFENSE_CODE': '3803', 'OFFENSE_CODE_GROUP': 'Motor Vehicle Accident Response', 'OFFENSE_DESCRIPTION': 'M/V ACCIDENT - PERSONAL INJURY', 'DISTRICT': nan, 'REPORTING_AREA': ' ', 'OCCURRED_ON_DATE': '10.03.18 20:16', 'YEAR': '2018', 'MONTH': '10', 'DAY_OF_WEEK': 'Wednesday', 'HOUR': '20', 'UCR_PART': 'Part Three', 'STREET': nan, 'Lat': '4.232.073.413', 'Long': '-7.105.676.415', 'Location': '(42.32073413'}\n",
      "{'_id': ObjectId('5fd339fc598799f3745b2d89'), 'index': 10, 'INCIDENT_NUMBER': 'I182080043', 'OFFENSE_CODE': '3803', 'OFFENSE_CODE_GROUP': 'Motor Vehicle Accident Response', 'OFFENSE_DESCRIPTION': 'M/V ACCIDENT - PERSONAL INJURY', 'DISTRICT': 'D14', 'REPORTING_AREA': '750', 'OCCURRED_ON_DATE': '10/3/2018  99:33:00 PM', 'YEAR': '2018', 'MONTH': '10', 'DAY_OF_WEEK': 'Wednesday', 'HOUR': '19', 'UCR_PART': 'Part Three', 'STREET': 'FOSTER ST', 'Lat': '4.234.432.328', 'Long': '-7.115.778.368', 'Location': '(42.34432328'}\n",
      "{'_id': ObjectId('5fd339fc598799f3745b2d8e'), 'index': 15, 'INCIDENT_NUMBER': 'I182080038', 'OFFENSE_CODE': '3831', 'OFFENSE_CODE_GROUP': 'Motor Vehicle Accident Response', 'OFFENSE_DESCRIPTION': 'M/V - LEAVING SCENE - PROPERTY DAMAGE', 'DISTRICT': nan, 'REPORTING_AREA': ' ', 'OCCURRED_ON_DATE': '10.03.18 19:30', 'YEAR': '2018', 'MONTH': '10', 'DAY_OF_WEEK': 'Wednesday', 'HOUR': '19', 'UCR_PART': 'Part Three', 'STREET': nan, 'Lat': '4.231.596.119', 'Long': '-7.109.042.564', 'Location': '(42.31596119'}\n",
      "{'_id': ObjectId('5fe05e06598799f3745b2da1'), 'index': 6, 'INCIDENT_NUMBER': 'I182080048', 'OFFENSE_CODE': '3803', 'OFFENSE_CODE_GROUP': 'Motor Vehicle Accident Response', 'OFFENSE_DESCRIPTION': 'M/V ACCIDENT - PERSONAL INJURY', 'DISTRICT': nan, 'REPORTING_AREA': ' ', 'OCCURRED_ON_DATE': '10.03.18 20:16', 'YEAR': '2018', 'MONTH': '10', 'DAY_OF_WEEK': 'Wednesday', 'HOUR': '20', 'UCR_PART': 'Part Three', 'STREET': nan, 'Lat': '4.232.073.413', 'Long': '-7.105.676.415', 'Location': '(42.32073413'}\n",
      "{'_id': ObjectId('5fe05e06598799f3745b2da5'), 'index': 10, 'INCIDENT_NUMBER': 'I182080043', 'OFFENSE_CODE': '3803', 'OFFENSE_CODE_GROUP': 'Motor Vehicle Accident Response', 'OFFENSE_DESCRIPTION': 'M/V ACCIDENT - PERSONAL INJURY', 'DISTRICT': 'D14', 'REPORTING_AREA': '750', 'OCCURRED_ON_DATE': '10/3/2018  99:33:00 PM', 'YEAR': '2018', 'MONTH': '10', 'DAY_OF_WEEK': 'Wednesday', 'HOUR': '19', 'UCR_PART': 'Part Three', 'STREET': 'FOSTER ST', 'Lat': '4.234.432.328', 'Long': '-7.115.778.368', 'Location': '(42.34432328'}\n",
      "{'_id': ObjectId('5fe05e06598799f3745b2daa'), 'index': 15, 'INCIDENT_NUMBER': 'I182080038', 'OFFENSE_CODE': '3831', 'OFFENSE_CODE_GROUP': 'Motor Vehicle Accident Response', 'OFFENSE_DESCRIPTION': 'M/V - LEAVING SCENE - PROPERTY DAMAGE', 'DISTRICT': nan, 'REPORTING_AREA': ' ', 'OCCURRED_ON_DATE': '10.03.18 19:30', 'YEAR': '2018', 'MONTH': '10', 'DAY_OF_WEEK': 'Wednesday', 'HOUR': '19', 'UCR_PART': 'Part Three', 'STREET': nan, 'Lat': '4.231.596.119', 'Long': '-7.109.042.564', 'Location': '(42.31596119'}\n"
     ]
    }
   ],
   "source": [
    "x=collection.find({\"OFFENSE_CODE_GROUP\": { \"$regex\" : \"^Motor.*\" }})\n",
    "for data in x: \n",
    "    print(data)"
   ]
  },
  {
   "cell_type": "code",
   "execution_count": null,
   "metadata": {},
   "outputs": [],
   "source": []
  },
  {
   "cell_type": "code",
   "execution_count": null,
   "metadata": {},
   "outputs": [],
   "source": []
  },
  {
   "cell_type": "code",
   "execution_count": null,
   "metadata": {},
   "outputs": [],
   "source": []
  },
  {
   "cell_type": "code",
   "execution_count": null,
   "metadata": {},
   "outputs": [],
   "source": []
  },
  {
   "cell_type": "code",
   "execution_count": null,
   "metadata": {},
   "outputs": [],
   "source": []
  },
  {
   "cell_type": "code",
   "execution_count": null,
   "metadata": {},
   "outputs": [],
   "source": []
  },
  {
   "cell_type": "code",
   "execution_count": null,
   "metadata": {},
   "outputs": [],
   "source": []
  }
 ],
 "metadata": {
  "kernelspec": {
   "display_name": "Python 3",
   "language": "python",
   "name": "python3"
  },
  "language_info": {
   "codemirror_mode": {
    "name": "ipython",
    "version": 3
   },
   "file_extension": ".py",
   "mimetype": "text/x-python",
   "name": "python",
   "nbconvert_exporter": "python",
   "pygments_lexer": "ipython3",
   "version": "3.7.3"
  }
 },
 "nbformat": 4,
 "nbformat_minor": 2
}
