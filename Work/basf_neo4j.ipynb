{
 "cells": [
  {
   "cell_type": "code",
   "execution_count": 1,
   "metadata": {},
   "outputs": [],
   "source": [
    "import py2neo\n",
    "from py2neo import Graph,NodeMatcher\n",
    "import neo4j\n",
    "from neo4j import GraphDatabase\n",
    "from py2neo.data import Node, Relationship"
   ]
  },
  {
   "cell_type": "code",
   "execution_count": 4,
   "metadata": {},
   "outputs": [],
   "source": [
    "g = Graph(\"bolt://localhost:7687\",auth=(\"neo4j\", \"test\")) \n",
    "matcher = NodeMatcher(g)"
   ]
  },
  {
   "cell_type": "code",
   "execution_count": null,
   "metadata": {},
   "outputs": [],
   "source": []
  },
  {
   "cell_type": "code",
   "execution_count": null,
   "metadata": {},
   "outputs": [],
   "source": []
  },
  {
   "cell_type": "code",
   "execution_count": 5,
   "metadata": {},
   "outputs": [],
   "source": [
    "driver = GraphDatabase.driver(\"neo4j://localhost:7687\",auth=(\"neo4j\", \"test\"))"
   ]
  },
  {
   "cell_type": "code",
   "execution_count": 6,
   "metadata": {},
   "outputs": [],
   "source": [
    "import pandas as pd\n",
    "df = pd.read_csv('/Users/jasminekaur/Desktop/basf/Code/data/Boston_Crime_Dataset.csv',encoding=\"latin_1\",dtype='unicode' )  "
   ]
  },
  {
   "cell_type": "code",
   "execution_count": 7,
   "metadata": {},
   "outputs": [
    {
     "data": {
      "text/plain": [
       "INCIDENT_NUMBER        object\n",
       "OFFENSE_CODE           object\n",
       "OFFENSE_CODE_GROUP     object\n",
       "OFFENSE_DESCRIPTION    object\n",
       "DISTRICT               object\n",
       "REPORTING_AREA         object\n",
       "OCCURRED_ON_DATE       object\n",
       "YEAR                   object\n",
       "MONTH                  object\n",
       "DAY_OF_WEEK            object\n",
       "HOUR                   object\n",
       "UCR_PART               object\n",
       "STREET                 object\n",
       "Lat                    object\n",
       "Long                   object\n",
       "Location               object\n",
       "dtype: object"
      ]
     },
     "execution_count": 7,
     "metadata": {},
     "output_type": "execute_result"
    }
   ],
   "source": [
    "df.dtypes"
   ]
  },
  {
   "cell_type": "code",
   "execution_count": 8,
   "metadata": {},
   "outputs": [],
   "source": [
    "df2 = df.head(50)"
   ]
  },
  {
   "cell_type": "code",
   "execution_count": 9,
   "metadata": {},
   "outputs": [],
   "source": [
    "df = pd.read_csv('/Users/jasminekaur/Desktop/basf/Code/data/soc_pokec_profiles.txt',sep= '\\t',header=None ) \n",
    "df_n = pd.read_csv('/Users/jasminekaur/Desktop/basf/Code/data/soc-pokec-relationships.txt',sep= '\\t',header=None )"
   ]
  },
  {
   "cell_type": "code",
   "execution_count": 11,
   "metadata": {},
   "outputs": [],
   "source": [
    "a = Node(\"Person\", name=\"Mark\", age=33)\n",
    "b = Node(\"Person\", name=\"Rachel\", age=44)\n",
    "KNOWS = Relationship.type(\"KNOWS\")\n",
    "g.merge(KNOWS(a, b), \"Person\", \"name\")"
   ]
  },
  {
   "cell_type": "code",
   "execution_count": 12,
   "metadata": {},
   "outputs": [],
   "source": [
    "c = Node(\"Company\", name=\"BASf\")\n",
    "c.__primarylabel__ = \"Company\"\n",
    "c.__primarykey__ = \"name\"\n",
    "WORKS_FOR = Relationship.type(\"WORKS_FOR\")\n",
    "g.merge(WORKS_FOR(a, c) | WORKS_FOR(b, c))"
   ]
  },
  {
   "cell_type": "code",
   "execution_count": 13,
   "metadata": {},
   "outputs": [
    {
     "data": {
      "text/plain": [
       "Node('Person', age=33, name='Alice')"
      ]
     },
     "execution_count": 13,
     "metadata": {},
     "output_type": "execute_result"
    }
   ],
   "source": [
    "g.nodes.match(\"Person\", name=\"Alice\").first()"
   ]
  },
  {
   "cell_type": "code",
   "execution_count": 14,
   "metadata": {},
   "outputs": [
    {
     "data": {
      "text/plain": [
       "39"
      ]
     },
     "execution_count": 14,
     "metadata": {},
     "output_type": "execute_result"
    }
   ],
   "source": [
    "len(g.nodes)"
   ]
  },
  {
   "cell_type": "code",
   "execution_count": 15,
   "metadata": {},
   "outputs": [
    {
     "data": {
      "text/plain": [
       "4"
      ]
     },
     "execution_count": 15,
     "metadata": {},
     "output_type": "execute_result"
    }
   ],
   "source": [
    "len(g.nodes.match(\"Person\", age=33))"
   ]
  },
  {
   "cell_type": "code",
   "execution_count": 16,
   "metadata": {},
   "outputs": [
    {
     "data": {
      "text/plain": [
       "True"
      ]
     },
     "execution_count": 16,
     "metadata": {},
     "output_type": "execute_result"
    }
   ],
   "source": [
    "tx = g.begin()\n",
    "a = Node(\"Person\", name=\"Ross\")\n",
    "tx.create(a)\n",
    "b = Node(\"Person\", name=\"Joey\")\n",
    "ab = Relationship(a, \"KNOWS\", b)\n",
    "tx.create(ab)\n",
    "tx.commit()\n",
    "g.exists(ab)"
   ]
  },
  {
   "cell_type": "code",
   "execution_count": 17,
   "metadata": {},
   "outputs": [
    {
     "ename": "NameError",
     "evalue": "name 'cursor' is not defined",
     "output_type": "error",
     "traceback": [
      "\u001b[0;31m---------------------------------------------------------------------------\u001b[0m",
      "\u001b[0;31mNameError\u001b[0m                                 Traceback (most recent call last)",
      "\u001b[0;32m<ipython-input-17-ac98fa7b9576>\u001b[0m in \u001b[0;36m<module>\u001b[0;34m\u001b[0m\n\u001b[0;32m----> 1\u001b[0;31m \u001b[0;32mwhile\u001b[0m \u001b[0mcursor\u001b[0m\u001b[0;34m.\u001b[0m\u001b[0mforward\u001b[0m\u001b[0;34m(\u001b[0m\u001b[0;34m)\u001b[0m\u001b[0;34m:\u001b[0m\u001b[0;34m\u001b[0m\u001b[0;34m\u001b[0m\u001b[0m\n\u001b[0m\u001b[1;32m      2\u001b[0m     \u001b[0mprint\u001b[0m\u001b[0;34m(\u001b[0m\u001b[0mcursor\u001b[0m\u001b[0;34m.\u001b[0m\u001b[0mcurrent\u001b[0m\u001b[0;34m[\u001b[0m\u001b[0;34m\"name\"\u001b[0m\u001b[0;34m]\u001b[0m\u001b[0;34m)\u001b[0m\u001b[0;34m\u001b[0m\u001b[0;34m\u001b[0m\u001b[0m\n",
      "\u001b[0;31mNameError\u001b[0m: name 'cursor' is not defined"
     ]
    }
   ],
   "source": [
    "while cursor.forward():\n",
    "    print(cursor.current[\"name\"])"
   ]
  },
  {
   "cell_type": "code",
   "execution_count": 19,
   "metadata": {},
   "outputs": [
    {
     "data": {
      "text/plain": [
       "[{'a.name': 'Alice', 'a.born': None},\n",
       " {'a.name': 'Bob', 'a.born': None},\n",
       " {'a.name': 'Alice', 'a.born': None},\n",
       " {'a.name': 'Bob', 'a.born': None},\n",
       " {'a.name': 'Alice', 'a.born': None},\n",
       " {'a.name': 'Mike', 'a.born': None},\n",
       " {'a.name': 'June', 'a.born': None},\n",
       " {'a.name': 'Jane', 'a.born': None},\n",
       " {'a.name': 'Fred', 'a.born': None},\n",
       " {'a.name': 'Alex', 'a.born': None},\n",
       " {'a.name': 'Thom', 'a.born': None},\n",
       " {'a.name': 'Codu', 'a.born': None},\n",
       " {'a.name': 'Mike', 'a.born': None},\n",
       " {'a.name': 'June', 'a.born': None},\n",
       " {'a.name': 'Jane', 'a.born': None},\n",
       " {'a.name': 'Fred', 'a.born': None},\n",
       " {'a.name': 'Alex', 'a.born': None},\n",
       " {'a.name': 'Thom', 'a.born': None},\n",
       " {'a.name': 'Codu', 'a.born': None},\n",
       " {'a.name': 'Mark', 'a.born': None},\n",
       " {'a.name': 'Rachel', 'a.born': None},\n",
       " {'a.name': 'Ross', 'a.born': None},\n",
       " {'a.name': 'Joey', 'a.born': None}]"
      ]
     },
     "execution_count": 19,
     "metadata": {},
     "output_type": "execute_result"
    }
   ],
   "source": [
    "g.run(\"MATCH (a:Person) RETURN a.name, a.born \").data()"
   ]
  },
  {
   "cell_type": "code",
   "execution_count": 20,
   "metadata": {
    "scrolled": true
   },
   "outputs": [
    {
     "data": {
      "text/plain": [
       "constraints_added: 0\n",
       "constraints_removed: 0\n",
       "contained_updates: True\n",
       "indexes_added: 0\n",
       "indexes_removed: 0\n",
       "labels_added: 1\n",
       "labels_removed: 0\n",
       "nodes_created: 1\n",
       "nodes_deleted: 0\n",
       "properties_set: 1\n",
       "relationships_created: 0\n",
       "relationships_deleted: 0"
      ]
     },
     "execution_count": 20,
     "metadata": {},
     "output_type": "execute_result"
    }
   ],
   "source": [
    "g.run(\"CREATE (a:Person) SET a.name = 'Alice'\").stats()"
   ]
  },
  {
   "cell_type": "code",
   "execution_count": 21,
   "metadata": {},
   "outputs": [
    {
     "data": {
      "text/plain": [
       "[Node('Person', age=26, fdg=4.33, id=5, name='Alex'),\n",
       " Node('Person', age=26, fdg=4.33, id=5, name='Alex'),\n",
       " Node('Person', name='Alice')]"
      ]
     },
     "execution_count": 21,
     "metadata": {},
     "output_type": "execute_result"
    }
   ],
   "source": [
    "list(matcher.match(\"Person\").where(\"_.name =~ 'A.*'\").order_by(\"_.name\").limit(3))"
   ]
  },
  {
   "cell_type": "code",
   "execution_count": null,
   "metadata": {},
   "outputs": [],
   "source": []
  },
  {
   "cell_type": "code",
   "execution_count": 22,
   "metadata": {},
   "outputs": [],
   "source": [
    "nodedata = [{'subid': '1', 'age': 75, 'fdg': 1.78, 'name': 'Fred'},\n",
    "            {'subid': '2', 'age': 33, 'fdg': 1.56, 'name': 'May'},\n",
    "            {'subid': '3', 'age': 32, 'fdg': 1.11, 'name': 'Janice'},\n",
    "            {'subid': '4', 'age': 77, 'fdg': 1.02, 'name': 'Alen'},\n",
    "            {'subid': '5', 'age': 26, 'fdg': 4.33, 'name': 'tom'},\n",
    "            {'subid': '6', 'age': 54, 'fdg': 2.11, 'name': 'carl'},\n",
    "            {'subid': '7', 'age': 24, 'fdg': 5.22, 'name': 'casper'}]\n",
    "nodes = pd.DataFrame(nodedata)"
   ]
  },
  {
   "cell_type": "code",
   "execution_count": 23,
   "metadata": {},
   "outputs": [],
   "source": [
    "\n",
    "edgedata = [{'source': '1', 'dest': '2', 'weight': 1, 'rating': 2},\n",
    "            {'source': '1', 'dest': '3', 'weight': 1, 'rating': 1},\n",
    "            {'source': '1', 'dest': '5', 'weight': 1, 'rating': 6},\n",
    "            {'source': '1', 'dest': '6', 'weight': 1, 'rating': 8},\n",
    "            {'source': '6', 'dest': '7', 'weight': 1, 'rating': 3},\n",
    "            {'source': '5', 'dest': '3', 'weight': 1, 'rating': 4},\n",
    "            {'source': '4', 'dest': '3', 'weight': 1, 'rating': 9},\n",
    "            {'source': '2', 'dest': '4', 'weight': 1, 'rating': 2}]\n",
    "edges = pd.DataFrame(edgedata)"
   ]
  },
  {
   "cell_type": "code",
   "execution_count": 24,
   "metadata": {},
   "outputs": [],
   "source": [
    "#cypher params\n",
    "nodename = \"Person\"\n",
    "edgename = \"RATED\"\n",
    "source_name = \"Person\"\n",
    "dest_name = \"Person\""
   ]
  },
  {
   "cell_type": "code",
   "execution_count": 25,
   "metadata": {},
   "outputs": [],
   "source": [
    "#NODE BY NODE IMPORT\n",
    "for index, row in nodes.iterrows():\n",
    "    node = Node(nodename, id=int(row['subid']), age = row['age'], fdg = row['fdg'], name = row['name'])\n",
    "    g.create(node)"
   ]
  },
  {
   "cell_type": "code",
   "execution_count": 26,
   "metadata": {},
   "outputs": [],
   "source": [
    "for index, row in edges.iterrows():\n",
    "    source_node = matcher.match(nodename, property_key='id', property_value=int(row['source']))\n",
    "    dest_node = matcher.match(nodename, property_key='id', property_value = int(row['dest']))\n",
    "    relation = Relationship(source_node, edgename, dest_node, rating = int(row['rating']))\n",
    "    g.create(relation)"
   ]
  },
  {
   "cell_type": "code",
   "execution_count": 27,
   "metadata": {},
   "outputs": [
    {
     "data": {
      "text/plain": [
       "[{'a.name': 'Alice', 'a.age': 33},\n",
       " {'a.name': 'Bob', 'a.age': 44},\n",
       " {'a.name': 'Alice', 'a.age': None},\n",
       " {'a.name': 'Bob', 'a.age': None},\n",
       " {'a.name': 'Alice', 'a.age': None},\n",
       " {'a.name': 'Mike', 'a.age': 75},\n",
       " {'a.name': 'June', 'a.age': 33},\n",
       " {'a.name': 'Jane', 'a.age': 32},\n",
       " {'a.name': 'Fred', 'a.age': 77},\n",
       " {'a.name': 'Alex', 'a.age': 26},\n",
       " {'a.name': 'Thom', 'a.age': 54},\n",
       " {'a.name': 'Codu', 'a.age': 24},\n",
       " {'a.name': 'Mike', 'a.age': 75},\n",
       " {'a.name': 'June', 'a.age': 33},\n",
       " {'a.name': 'Jane', 'a.age': 32},\n",
       " {'a.name': 'Fred', 'a.age': 77},\n",
       " {'a.name': 'Alex', 'a.age': 26},\n",
       " {'a.name': 'Thom', 'a.age': 54},\n",
       " {'a.name': 'Codu', 'a.age': 24},\n",
       " {'a.name': 'Mark', 'a.age': 33},\n",
       " {'a.name': 'Rachel', 'a.age': 44},\n",
       " {'a.name': 'Ross', 'a.age': None},\n",
       " {'a.name': 'Joey', 'a.age': None},\n",
       " {'a.name': 'Alice', 'a.age': None},\n",
       " {'a.name': 'Fred', 'a.age': 75},\n",
       " {'a.name': 'May', 'a.age': 33},\n",
       " {'a.name': 'Janice', 'a.age': 32},\n",
       " {'a.name': 'Alen', 'a.age': 77},\n",
       " {'a.name': 'tom', 'a.age': 26},\n",
       " {'a.name': 'carl', 'a.age': 54},\n",
       " {'a.name': 'casper', 'a.age': 24}]"
      ]
     },
     "execution_count": 27,
     "metadata": {},
     "output_type": "execute_result"
    }
   ],
   "source": [
    "g.run(\"MATCH (a:Person) RETURN a.name, a.age \").data()"
   ]
  },
  {
   "cell_type": "code",
   "execution_count": null,
   "metadata": {},
   "outputs": [],
   "source": []
  }
 ],
 "metadata": {
  "kernelspec": {
   "display_name": "Python 3",
   "language": "python",
   "name": "python3"
  },
  "language_info": {
   "codemirror_mode": {
    "name": "ipython",
    "version": 3
   },
   "file_extension": ".py",
   "mimetype": "text/x-python",
   "name": "python",
   "nbconvert_exporter": "python",
   "pygments_lexer": "ipython3",
   "version": "3.7.3"
  }
 },
 "nbformat": 4,
 "nbformat_minor": 2
}
