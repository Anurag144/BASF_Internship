{
 "cells": [
  {
   "cell_type": "code",
   "execution_count": 1,
   "metadata": {},
   "outputs": [],
   "source": [
    "import pickle\n",
    "import networkx as nx\n",
    "import pandas as pd\n",
    "import matplotlib.pyplot as plt\n",
    "\n",
    "\n",
    "df = pd.read_csv('/Users/jasminekaur/Desktop/basf/Code/data/soc_pokec_profiles.txt',sep= '\\t',header=None ) \n",
    "df_n = pd.read_csv('/Users/jasminekaur/Desktop/basf/Code/data/soc-pokec-relationships.txt',sep= '\\t',header=None )"
   ]
  },
  {
   "cell_type": "code",
   "execution_count": 2,
   "metadata": {},
   "outputs": [
    {
     "data": {
      "text/html": [
       "<div>\n",
       "<style scoped>\n",
       "    .dataframe tbody tr th:only-of-type {\n",
       "        vertical-align: middle;\n",
       "    }\n",
       "\n",
       "    .dataframe tbody tr th {\n",
       "        vertical-align: top;\n",
       "    }\n",
       "\n",
       "    .dataframe thead th {\n",
       "        text-align: right;\n",
       "    }\n",
       "</style>\n",
       "<table border=\"1\" class=\"dataframe\">\n",
       "  <thead>\n",
       "    <tr style=\"text-align: right;\">\n",
       "      <th></th>\n",
       "      <th>0</th>\n",
       "      <th>1</th>\n",
       "      <th>2</th>\n",
       "      <th>3</th>\n",
       "      <th>4</th>\n",
       "      <th>5</th>\n",
       "      <th>6</th>\n",
       "      <th>7</th>\n",
       "      <th>8</th>\n",
       "      <th>9</th>\n",
       "      <th>...</th>\n",
       "      <th>50</th>\n",
       "      <th>51</th>\n",
       "      <th>52</th>\n",
       "      <th>53</th>\n",
       "      <th>54</th>\n",
       "      <th>55</th>\n",
       "      <th>56</th>\n",
       "      <th>57</th>\n",
       "      <th>58</th>\n",
       "      <th>59</th>\n",
       "    </tr>\n",
       "  </thead>\n",
       "  <tbody>\n",
       "    <tr>\n",
       "      <th>0</th>\n",
       "      <td>1</td>\n",
       "      <td>1</td>\n",
       "      <td>14</td>\n",
       "      <td>1.0</td>\n",
       "      <td>zilinsky kraj, zilina</td>\n",
       "      <td>2012-05-25 11:20:00.0</td>\n",
       "      <td>2005-04-03 00:00:00.0</td>\n",
       "      <td>26.0</td>\n",
       "      <td>185 cm, 90 kg</td>\n",
       "      <td>it</td>\n",
       "      <td>...</td>\n",
       "      <td>NaN</td>\n",
       "      <td>NaN</td>\n",
       "      <td>NaN</td>\n",
       "      <td>NaN</td>\n",
       "      <td>NaN</td>\n",
       "      <td>NaN</td>\n",
       "      <td>NaN</td>\n",
       "      <td>NaN</td>\n",
       "      <td>NaN</td>\n",
       "      <td>NaN</td>\n",
       "    </tr>\n",
       "    <tr>\n",
       "      <th>1</th>\n",
       "      <td>2</td>\n",
       "      <td>1</td>\n",
       "      <td>62</td>\n",
       "      <td>0.0</td>\n",
       "      <td>zilinsky kraj, kysucke nove mesto</td>\n",
       "      <td>2012-05-25 23:08:00.0</td>\n",
       "      <td>2007-11-30 00:00:00.0</td>\n",
       "      <td>0.0</td>\n",
       "      <td>166 cm, 58 kg</td>\n",
       "      <td>NaN</td>\n",
       "      <td>...</td>\n",
       "      <td>NaN</td>\n",
       "      <td>NaN</td>\n",
       "      <td>NaN</td>\n",
       "      <td>NaN</td>\n",
       "      <td>NaN</td>\n",
       "      <td>NaN</td>\n",
       "      <td>NaN</td>\n",
       "      <td>NaN</td>\n",
       "      <td>NaN</td>\n",
       "      <td>NaN</td>\n",
       "    </tr>\n",
       "    <tr>\n",
       "      <th>2</th>\n",
       "      <td>16</td>\n",
       "      <td>1</td>\n",
       "      <td>64</td>\n",
       "      <td>1.0</td>\n",
       "      <td>zilinsky kraj, kysucke nove mesto</td>\n",
       "      <td>2012-05-25 23:19:40.0</td>\n",
       "      <td>2008-05-18 00:00:00.0</td>\n",
       "      <td>23.0</td>\n",
       "      <td>173 cm, 70 kg</td>\n",
       "      <td>najvatcsej firme na svete urad prace</td>\n",
       "      <td>...</td>\n",
       "      <td>NaN</td>\n",
       "      <td>NaN</td>\n",
       "      <td>NaN</td>\n",
       "      <td>NaN</td>\n",
       "      <td>NaN</td>\n",
       "      <td>NaN</td>\n",
       "      <td>NaN</td>\n",
       "      <td>NaN</td>\n",
       "      <td>NaN</td>\n",
       "      <td>NaN</td>\n",
       "    </tr>\n",
       "    <tr>\n",
       "      <th>3</th>\n",
       "      <td>3</td>\n",
       "      <td>0</td>\n",
       "      <td>38</td>\n",
       "      <td>1.0</td>\n",
       "      <td>bratislavsky kraj, bratislava - karlova ves</td>\n",
       "      <td>2012-05-10 18:05:00.0</td>\n",
       "      <td>2010-05-23 00:00:00.0</td>\n",
       "      <td>29.0</td>\n",
       "      <td>NaN</td>\n",
       "      <td>reklamy a medii, sluzieb a obchodu</td>\n",
       "      <td>...</td>\n",
       "      <td>NaN</td>\n",
       "      <td>NaN</td>\n",
       "      <td>NaN</td>\n",
       "      <td>NaN</td>\n",
       "      <td>NaN</td>\n",
       "      <td>NaN</td>\n",
       "      <td>NaN</td>\n",
       "      <td>NaN</td>\n",
       "      <td>NaN</td>\n",
       "      <td>NaN</td>\n",
       "    </tr>\n",
       "    <tr>\n",
       "      <th>4</th>\n",
       "      <td>4</td>\n",
       "      <td>1</td>\n",
       "      <td>12</td>\n",
       "      <td>0.0</td>\n",
       "      <td>banskobystricky kraj, brezno</td>\n",
       "      <td>2011-12-29 12:25:00.0</td>\n",
       "      <td>2011-12-29 00:00:00.0</td>\n",
       "      <td>26.0</td>\n",
       "      <td>NaN</td>\n",
       "      <td>NaN</td>\n",
       "      <td>...</td>\n",
       "      <td>NaN</td>\n",
       "      <td>NaN</td>\n",
       "      <td>NaN</td>\n",
       "      <td>NaN</td>\n",
       "      <td>NaN</td>\n",
       "      <td>NaN</td>\n",
       "      <td>NaN</td>\n",
       "      <td>NaN</td>\n",
       "      <td>NaN</td>\n",
       "      <td>NaN</td>\n",
       "    </tr>\n",
       "  </tbody>\n",
       "</table>\n",
       "<p>5 rows × 60 columns</p>\n",
       "</div>"
      ],
      "text/plain": [
       "   0   1   2    3                                            4   \\\n",
       "0   1   1  14  1.0                        zilinsky kraj, zilina   \n",
       "1   2   1  62  0.0            zilinsky kraj, kysucke nove mesto   \n",
       "2  16   1  64  1.0            zilinsky kraj, kysucke nove mesto   \n",
       "3   3   0  38  1.0  bratislavsky kraj, bratislava - karlova ves   \n",
       "4   4   1  12  0.0                 banskobystricky kraj, brezno   \n",
       "\n",
       "                      5                      6     7              8   \\\n",
       "0  2012-05-25 11:20:00.0  2005-04-03 00:00:00.0  26.0  185 cm, 90 kg   \n",
       "1  2012-05-25 23:08:00.0  2007-11-30 00:00:00.0   0.0  166 cm, 58 kg   \n",
       "2  2012-05-25 23:19:40.0  2008-05-18 00:00:00.0  23.0  173 cm, 70 kg   \n",
       "3  2012-05-10 18:05:00.0  2010-05-23 00:00:00.0  29.0            NaN   \n",
       "4  2011-12-29 12:25:00.0  2011-12-29 00:00:00.0  26.0            NaN   \n",
       "\n",
       "                                     9   ...   50   51   52   53   54   55  \\\n",
       "0                                    it  ...  NaN  NaN  NaN  NaN  NaN  NaN   \n",
       "1                                   NaN  ...  NaN  NaN  NaN  NaN  NaN  NaN   \n",
       "2  najvatcsej firme na svete urad prace  ...  NaN  NaN  NaN  NaN  NaN  NaN   \n",
       "3    reklamy a medii, sluzieb a obchodu  ...  NaN  NaN  NaN  NaN  NaN  NaN   \n",
       "4                                   NaN  ...  NaN  NaN  NaN  NaN  NaN  NaN   \n",
       "\n",
       "    56   57   58  59  \n",
       "0  NaN  NaN  NaN NaN  \n",
       "1  NaN  NaN  NaN NaN  \n",
       "2  NaN  NaN  NaN NaN  \n",
       "3  NaN  NaN  NaN NaN  \n",
       "4  NaN  NaN  NaN NaN  \n",
       "\n",
       "[5 rows x 60 columns]"
      ]
     },
     "execution_count": 2,
     "metadata": {},
     "output_type": "execute_result"
    }
   ],
   "source": [
    "df.head()"
   ]
  },
  {
   "cell_type": "code",
   "execution_count": 3,
   "metadata": {},
   "outputs": [],
   "source": [
    "df2 = df.head(20)"
   ]
  },
  {
   "cell_type": "code",
   "execution_count": 4,
   "metadata": {},
   "outputs": [
    {
     "data": {
      "text/html": [
       "<div>\n",
       "<style scoped>\n",
       "    .dataframe tbody tr th:only-of-type {\n",
       "        vertical-align: middle;\n",
       "    }\n",
       "\n",
       "    .dataframe tbody tr th {\n",
       "        vertical-align: top;\n",
       "    }\n",
       "\n",
       "    .dataframe thead th {\n",
       "        text-align: right;\n",
       "    }\n",
       "</style>\n",
       "<table border=\"1\" class=\"dataframe\">\n",
       "  <thead>\n",
       "    <tr style=\"text-align: right;\">\n",
       "      <th></th>\n",
       "      <th>0</th>\n",
       "      <th>1</th>\n",
       "      <th>2</th>\n",
       "      <th>3</th>\n",
       "      <th>4</th>\n",
       "      <th>5</th>\n",
       "      <th>6</th>\n",
       "      <th>7</th>\n",
       "      <th>8</th>\n",
       "      <th>9</th>\n",
       "      <th>...</th>\n",
       "      <th>50</th>\n",
       "      <th>51</th>\n",
       "      <th>52</th>\n",
       "      <th>53</th>\n",
       "      <th>54</th>\n",
       "      <th>55</th>\n",
       "      <th>56</th>\n",
       "      <th>57</th>\n",
       "      <th>58</th>\n",
       "      <th>59</th>\n",
       "    </tr>\n",
       "  </thead>\n",
       "  <tbody>\n",
       "    <tr>\n",
       "      <th>0</th>\n",
       "      <td>1</td>\n",
       "      <td>1</td>\n",
       "      <td>14</td>\n",
       "      <td>1.0</td>\n",
       "      <td>zilinsky kraj, zilina</td>\n",
       "      <td>2012-05-25 11:20:00.0</td>\n",
       "      <td>2005-04-03 00:00:00.0</td>\n",
       "      <td>26.0</td>\n",
       "      <td>185 cm, 90 kg</td>\n",
       "      <td>it</td>\n",
       "      <td>...</td>\n",
       "      <td>NaN</td>\n",
       "      <td>NaN</td>\n",
       "      <td>NaN</td>\n",
       "      <td>NaN</td>\n",
       "      <td>NaN</td>\n",
       "      <td>NaN</td>\n",
       "      <td>NaN</td>\n",
       "      <td>NaN</td>\n",
       "      <td>NaN</td>\n",
       "      <td>NaN</td>\n",
       "    </tr>\n",
       "    <tr>\n",
       "      <th>1</th>\n",
       "      <td>2</td>\n",
       "      <td>1</td>\n",
       "      <td>62</td>\n",
       "      <td>0.0</td>\n",
       "      <td>zilinsky kraj, kysucke nove mesto</td>\n",
       "      <td>2012-05-25 23:08:00.0</td>\n",
       "      <td>2007-11-30 00:00:00.0</td>\n",
       "      <td>0.0</td>\n",
       "      <td>166 cm, 58 kg</td>\n",
       "      <td>NaN</td>\n",
       "      <td>...</td>\n",
       "      <td>NaN</td>\n",
       "      <td>NaN</td>\n",
       "      <td>NaN</td>\n",
       "      <td>NaN</td>\n",
       "      <td>NaN</td>\n",
       "      <td>NaN</td>\n",
       "      <td>NaN</td>\n",
       "      <td>NaN</td>\n",
       "      <td>NaN</td>\n",
       "      <td>NaN</td>\n",
       "    </tr>\n",
       "    <tr>\n",
       "      <th>2</th>\n",
       "      <td>16</td>\n",
       "      <td>1</td>\n",
       "      <td>64</td>\n",
       "      <td>1.0</td>\n",
       "      <td>zilinsky kraj, kysucke nove mesto</td>\n",
       "      <td>2012-05-25 23:19:40.0</td>\n",
       "      <td>2008-05-18 00:00:00.0</td>\n",
       "      <td>23.0</td>\n",
       "      <td>173 cm, 70 kg</td>\n",
       "      <td>najvatcsej firme na svete urad prace</td>\n",
       "      <td>...</td>\n",
       "      <td>NaN</td>\n",
       "      <td>NaN</td>\n",
       "      <td>NaN</td>\n",
       "      <td>NaN</td>\n",
       "      <td>NaN</td>\n",
       "      <td>NaN</td>\n",
       "      <td>NaN</td>\n",
       "      <td>NaN</td>\n",
       "      <td>NaN</td>\n",
       "      <td>NaN</td>\n",
       "    </tr>\n",
       "    <tr>\n",
       "      <th>3</th>\n",
       "      <td>3</td>\n",
       "      <td>0</td>\n",
       "      <td>38</td>\n",
       "      <td>1.0</td>\n",
       "      <td>bratislavsky kraj, bratislava - karlova ves</td>\n",
       "      <td>2012-05-10 18:05:00.0</td>\n",
       "      <td>2010-05-23 00:00:00.0</td>\n",
       "      <td>29.0</td>\n",
       "      <td>NaN</td>\n",
       "      <td>reklamy a medii, sluzieb a obchodu</td>\n",
       "      <td>...</td>\n",
       "      <td>NaN</td>\n",
       "      <td>NaN</td>\n",
       "      <td>NaN</td>\n",
       "      <td>NaN</td>\n",
       "      <td>NaN</td>\n",
       "      <td>NaN</td>\n",
       "      <td>NaN</td>\n",
       "      <td>NaN</td>\n",
       "      <td>NaN</td>\n",
       "      <td>NaN</td>\n",
       "    </tr>\n",
       "    <tr>\n",
       "      <th>4</th>\n",
       "      <td>4</td>\n",
       "      <td>1</td>\n",
       "      <td>12</td>\n",
       "      <td>0.0</td>\n",
       "      <td>banskobystricky kraj, brezno</td>\n",
       "      <td>2011-12-29 12:25:00.0</td>\n",
       "      <td>2011-12-29 00:00:00.0</td>\n",
       "      <td>26.0</td>\n",
       "      <td>NaN</td>\n",
       "      <td>NaN</td>\n",
       "      <td>...</td>\n",
       "      <td>NaN</td>\n",
       "      <td>NaN</td>\n",
       "      <td>NaN</td>\n",
       "      <td>NaN</td>\n",
       "      <td>NaN</td>\n",
       "      <td>NaN</td>\n",
       "      <td>NaN</td>\n",
       "      <td>NaN</td>\n",
       "      <td>NaN</td>\n",
       "      <td>NaN</td>\n",
       "    </tr>\n",
       "  </tbody>\n",
       "</table>\n",
       "<p>5 rows × 60 columns</p>\n",
       "</div>"
      ],
      "text/plain": [
       "   0   1   2    3                                            4   \\\n",
       "0   1   1  14  1.0                        zilinsky kraj, zilina   \n",
       "1   2   1  62  0.0            zilinsky kraj, kysucke nove mesto   \n",
       "2  16   1  64  1.0            zilinsky kraj, kysucke nove mesto   \n",
       "3   3   0  38  1.0  bratislavsky kraj, bratislava - karlova ves   \n",
       "4   4   1  12  0.0                 banskobystricky kraj, brezno   \n",
       "\n",
       "                      5                      6     7              8   \\\n",
       "0  2012-05-25 11:20:00.0  2005-04-03 00:00:00.0  26.0  185 cm, 90 kg   \n",
       "1  2012-05-25 23:08:00.0  2007-11-30 00:00:00.0   0.0  166 cm, 58 kg   \n",
       "2  2012-05-25 23:19:40.0  2008-05-18 00:00:00.0  23.0  173 cm, 70 kg   \n",
       "3  2012-05-10 18:05:00.0  2010-05-23 00:00:00.0  29.0            NaN   \n",
       "4  2011-12-29 12:25:00.0  2011-12-29 00:00:00.0  26.0            NaN   \n",
       "\n",
       "                                     9   ...   50   51   52   53   54   55  \\\n",
       "0                                    it  ...  NaN  NaN  NaN  NaN  NaN  NaN   \n",
       "1                                   NaN  ...  NaN  NaN  NaN  NaN  NaN  NaN   \n",
       "2  najvatcsej firme na svete urad prace  ...  NaN  NaN  NaN  NaN  NaN  NaN   \n",
       "3    reklamy a medii, sluzieb a obchodu  ...  NaN  NaN  NaN  NaN  NaN  NaN   \n",
       "4                                   NaN  ...  NaN  NaN  NaN  NaN  NaN  NaN   \n",
       "\n",
       "    56   57   58  59  \n",
       "0  NaN  NaN  NaN NaN  \n",
       "1  NaN  NaN  NaN NaN  \n",
       "2  NaN  NaN  NaN NaN  \n",
       "3  NaN  NaN  NaN NaN  \n",
       "4  NaN  NaN  NaN NaN  \n",
       "\n",
       "[5 rows x 60 columns]"
      ]
     },
     "execution_count": 4,
     "metadata": {},
     "output_type": "execute_result"
    }
   ],
   "source": [
    "df2.head()"
   ]
  },
  {
   "cell_type": "code",
   "execution_count": 5,
   "metadata": {},
   "outputs": [
    {
     "data": {
      "text/plain": [
       "(20, 60)"
      ]
     },
     "execution_count": 5,
     "metadata": {},
     "output_type": "execute_result"
    }
   ],
   "source": [
    "df2.shape"
   ]
  },
  {
   "cell_type": "code",
   "execution_count": 6,
   "metadata": {},
   "outputs": [],
   "source": [
    "G=nx.from_pandas_edgelist(df2,0,4,edge_attr=[3,7,10,11,20,28,29])"
   ]
  },
  {
   "cell_type": "code",
   "execution_count": 7,
   "metadata": {
    "scrolled": true
   },
   "outputs": [
    {
     "data": {
      "text/plain": [
       "EdgeView([(1, 'zilinsky kraj, zilina'), ('zilinsky kraj, zilina', 5), ('zilinsky kraj, zilina', 6), (2, 'zilinsky kraj, kysucke nove mesto'), ('zilinsky kraj, kysucke nove mesto', 16), ('zilinsky kraj, kysucke nove mesto', 18), ('zilinsky kraj, kysucke nove mesto', 31), ('zilinsky kraj, kysucke nove mesto', 19), ('zilinsky kraj, kysucke nove mesto', 32), ('zilinsky kraj, kysucke nove mesto', 20), ('zilinsky kraj, kysucke nove mesto', 33), ('zilinsky kraj, kysucke nove mesto', 46), (3, 'bratislavsky kraj, bratislava - karlova ves'), (4, 'banskobystricky kraj, brezno'), ('banskobystricky kraj, brezno', 9), (17, 'zilinsky kraj, martin'), ('zilinsky kraj, martin', 7), (8, 'trenciansky kraj, ilava'), (21, 'zilinsky kraj, cadca'), ('zilinsky kraj, cadca', 10)])"
      ]
     },
     "execution_count": 7,
     "metadata": {},
     "output_type": "execute_result"
    }
   ],
   "source": [
    "G.edges()"
   ]
  },
  {
   "cell_type": "code",
   "execution_count": 8,
   "metadata": {},
   "outputs": [
    {
     "data": {
      "text/plain": [
       "NodeDataView({1: {}, 'zilinsky kraj, zilina': {}, 2: {}, 'zilinsky kraj, kysucke nove mesto': {}, 16: {}, 3: {}, 'bratislavsky kraj, bratislava - karlova ves': {}, 4: {}, 'banskobystricky kraj, brezno': {}, 17: {}, 'zilinsky kraj, martin': {}, 5: {}, 18: {}, 31: {}, 19: {}, 6: {}, 32: {}, 20: {}, 7: {}, 8: {}, 'trenciansky kraj, ilava': {}, 33: {}, 9: {}, 46: {}, 21: {}, 'zilinsky kraj, cadca': {}, 10: {}})"
      ]
     },
     "execution_count": 8,
     "metadata": {},
     "output_type": "execute_result"
    }
   ],
   "source": [
    "G.nodes(data=True)"
   ]
  },
  {
   "cell_type": "code",
   "execution_count": 9,
   "metadata": {},
   "outputs": [
    {
     "data": {
      "text/plain": [
       "[1,\n",
       " 'zilinsky kraj, zilina',\n",
       " 2,\n",
       " 'zilinsky kraj, kysucke nove mesto',\n",
       " 16,\n",
       " 3,\n",
       " 'bratislavsky kraj, bratislava - karlova ves',\n",
       " 4,\n",
       " 'banskobystricky kraj, brezno',\n",
       " 17,\n",
       " 'zilinsky kraj, martin',\n",
       " 5,\n",
       " 18,\n",
       " 31,\n",
       " 19,\n",
       " 6,\n",
       " 32,\n",
       " 20,\n",
       " 7,\n",
       " 8,\n",
       " 'trenciansky kraj, ilava',\n",
       " 33,\n",
       " 9,\n",
       " 46,\n",
       " 21,\n",
       " 'zilinsky kraj, cadca',\n",
       " 10]"
      ]
     },
     "execution_count": 9,
     "metadata": {},
     "output_type": "execute_result"
    }
   ],
   "source": [
    "list(G.nodes)"
   ]
  },
  {
   "cell_type": "code",
   "execution_count": 10,
   "metadata": {},
   "outputs": [
    {
     "data": {
      "text/plain": [
       "[(1, 'zilinsky kraj, zilina'),\n",
       " ('zilinsky kraj, zilina', 5),\n",
       " ('zilinsky kraj, zilina', 6),\n",
       " (2, 'zilinsky kraj, kysucke nove mesto'),\n",
       " ('zilinsky kraj, kysucke nove mesto', 16),\n",
       " ('zilinsky kraj, kysucke nove mesto', 18),\n",
       " ('zilinsky kraj, kysucke nove mesto', 31),\n",
       " ('zilinsky kraj, kysucke nove mesto', 19),\n",
       " ('zilinsky kraj, kysucke nove mesto', 32),\n",
       " ('zilinsky kraj, kysucke nove mesto', 20),\n",
       " ('zilinsky kraj, kysucke nove mesto', 33),\n",
       " ('zilinsky kraj, kysucke nove mesto', 46),\n",
       " (3, 'bratislavsky kraj, bratislava - karlova ves'),\n",
       " (4, 'banskobystricky kraj, brezno'),\n",
       " ('banskobystricky kraj, brezno', 9),\n",
       " (17, 'zilinsky kraj, martin'),\n",
       " ('zilinsky kraj, martin', 7),\n",
       " (8, 'trenciansky kraj, ilava'),\n",
       " (21, 'zilinsky kraj, cadca'),\n",
       " ('zilinsky kraj, cadca', 10)]"
      ]
     },
     "execution_count": 10,
     "metadata": {},
     "output_type": "execute_result"
    }
   ],
   "source": [
    "list(G.edges)"
   ]
  },
  {
   "cell_type": "code",
   "execution_count": 11,
   "metadata": {},
   "outputs": [
    {
     "name": "stderr",
     "output_type": "stream",
     "text": [
      "/Users/jasminekaur/anaconda3/lib/python3.7/site-packages/networkx/drawing/nx_pylab.py:579: MatplotlibDeprecationWarning: \n",
      "The iterable function was deprecated in Matplotlib 3.1 and will be removed in 3.3. Use np.iterable instead.\n",
      "  if not cb.iterable(width):\n"
     ]
    },
    {
     "data": {
      "image/png": "[encoded data removed]",
      "text/plain": [
       "<Figure size 432x288 with 1 Axes>"
      ]
     },
     "metadata": {},
     "output_type": "display_data"
    }
   ],
   "source": [
    "nx.draw(G,with_labels = True) "
   ]
  },
  {
   "cell_type": "code",
   "execution_count": 12,
   "metadata": {},
   "outputs": [
    {
     "data": {
      "text/plain": [
       "DegreeView({1: 1, 'zilinsky kraj, zilina': 3, 2: 1, 'zilinsky kraj, kysucke nove mesto': 9, 16: 1, 3: 1, 'bratislavsky kraj, bratislava - karlova ves': 1, 4: 1, 'banskobystricky kraj, brezno': 2, 17: 1, 'zilinsky kraj, martin': 2, 5: 1, 18: 1, 31: 1, 19: 1, 6: 1, 32: 1, 20: 1, 7: 1, 8: 1, 'trenciansky kraj, ilava': 1, 33: 1, 9: 1, 46: 1, 21: 1, 'zilinsky kraj, cadca': 2, 10: 1})"
      ]
     },
     "execution_count": 12,
     "metadata": {},
     "output_type": "execute_result"
    }
   ],
   "source": [
    "G.degree()"
   ]
  },
  {
   "cell_type": "code",
   "execution_count": 13,
   "metadata": {},
   "outputs": [
    {
     "data": {
      "text/plain": [
       "<dict_keyiterator at 0x1869104f8>"
      ]
     },
     "execution_count": 13,
     "metadata": {},
     "output_type": "execute_result"
    }
   ],
   "source": [
    "G.neighbors(\"zilinsky kraj, kysucke nove mesto\")"
   ]
  },
  {
   "cell_type": "code",
   "execution_count": 14,
   "metadata": {},
   "outputs": [
    {
     "data": {
      "text/plain": [
       "{3: 1.0,\n",
       " 7: 23.0,\n",
       " 10: 'no predsa svoj :d a najlepsie druhy',\n",
       " 11: 'cestovanie, pocuvanie hudby, nenudit sa',\n",
       " 20: 'biela, modra, zelena',\n",
       " 28: 'slobodny(a)',\n",
       " 29: 'casom ak budem este vladat :d'}"
      ]
     },
     "execution_count": 14,
     "metadata": {},
     "output_type": "execute_result"
    }
   ],
   "source": [
    "G.get_edge_data(\"zilinsky kraj, kysucke nove mesto\",16)"
   ]
  },
  {
   "cell_type": "code",
   "execution_count": 15,
   "metadata": {},
   "outputs": [
    {
     "data": {
      "text/plain": [
       "EdgeDataView([(1, 'zilinsky kraj, zilina', {3: 1.0, 7: 26.0, 10: 'anglicky', 11: 'sportovanie, spanie, kino, jedlo, pocuvanie hudby, priatelia, divadlo', 20: nan, 28: nan, 29: nan}), ('zilinsky kraj, zilina', 5, {3: 1.0, 7: 26.0, 10: 'anglicky, nemecky, pascal', 11: 'sportovanie, prace v zahrade, pc hry, pocuvanie hudby, pozeranie filmov, no dal som si nieco navyse aby ste si nemysleli ze cely cas travim pred pocitacom', 20: 'hneda, modra, zelena', 28: 'slobodny(a)', 29: nan}), ('zilinsky kraj, zilina', 6, {3: 0.0, 7: 38.0, 10: nan, 11: nan, 20: nan, 28: 'rozvedeny(a)', 29: 'dve....zatial:)'}), (2, 'zilinsky kraj, kysucke nove mesto', {3: 0.0, 7: 0.0, 10: 'nemecky', 11: 'turistika, prace okolo domu, praca s pc, pocuvanie hudby, pozeranie filmov, tancovanie, diskoteky, kupalisko, varenie, party, priatelia, spanie, nakupovanie, stanovanie', 20: 'cierna, modra, ruzova', 28: 'slobodny(a)', 29: 'no budu a tak chcem 2 deti staci a tak ked budeme vladat tak bude aj viac co ja viem co ma v zivote postretne:d'}), ('zilinsky kraj, kysucke nove mesto', 16, {3: 1.0, 7: 23.0, 10: 'no predsa svoj :d a najlepsie druhy', 11: 'cestovanie, pocuvanie hudby, nenudit sa', 20: 'biela, modra, zelena', 28: 'slobodny(a)', 29: 'casom ak budem este vladat :d'}), ('zilinsky kraj, kysucke nove mesto', 18, {3: 1.0, 7: 18.0, 10: 'anglicky', 11: nan, 20: nan, 28: nan, 29: nan}), ('zilinsky kraj, kysucke nove mesto', 31, {3: 1.0, 7: 24.0, 10: 'nemecky, slovensky,cesky,ale najlepsie svoj', 11: 'sportovanie, turistika, prace okolo domu, praca s pc, varenie, priatelia, spanie, sex, stanovanie, .............', 20: 'biela, cierna, modra', 28: 'slobodny,aj bezdetny dufam hehe', 29: nan}), ('zilinsky kraj, kysucke nove mesto', 19, {3: 1.0, 7: 21.0, 10: 'no proste ten vlasny', 11: 'sportovanie, cestovanie, turistika, pozeranie filmov, diskoteky, kino, party, priatelia, spanie, sex, stanovanie', 20: 'oranzova, ruzova, zlta', 28: 'slobodny(a)', 29: nan}), ('zilinsky kraj, kysucke nove mesto', 32, {3: 1.0, 7: 21.0, 10: 'anglicky a slovensky.....', 11: 'sex, priatelia, diskoteky, pocuvanie hudby, pozeranie filmov, tancovanie, kupalisko, stanovanie, party', 20: 'cervena, modra, zelena a oranzovo cierne auto...', 28: 'mam vazny vztah,este vaznejzi ako vazny...', 29: 'nemam, ale zevraj v aprili cosi bude....tak treba chodit do polska na plienky... :)'}), ('zilinsky kraj, kysucke nove mesto', 20, {3: 0.0, 7: 20.0, 10: nan, 11: nan, 20: nan, 28: nan, 29: nan}), ('zilinsky kraj, kysucke nove mesto', 33, {3: 1.0, 7: 22.0, 10: 'nemecky', 11: 'no uz len praca .-))))', 20: 'biela, modra, cierna, zlta', 28: 'slobodny&quot;', 29: nan}), ('zilinsky kraj, kysucke nove mesto', 46, {3: 0.0, 7: 21.0, 10: 'nemecky, francuzsky :)', 11: 'fotografovanie, cestovanie, surfovanie po webe, citanie, pocuvanie hudby, pozeranie filmov, tancovanie, diskoteky, kupalisko, jedlo, kino, party, priatelia, spanie, nakupovanie, sex, stanovanie', 20: 'cervena, ruzova', 28: 'slobodny(a)', 29: 'chcem 3 deti'}), (3, 'bratislavsky kraj, bratislava - karlova ves', {3: 1.0, 7: 29.0, 10: 'anglicky, nemecky', 11: 'sportovanie, cestovanie', 20: 'cierna, modra', 28: 'slobodny(a)', 29: nan}), (4, 'banskobystricky kraj, brezno', {3: 0.0, 7: 26.0, 10: nan, 11: nan, 20: nan, 28: nan, 29: nan}), ('banskobystricky kraj, brezno', 9, {3: 0.0, 7: 0.0, 10: nan, 11: nan, 20: nan, 28: nan, 29: nan}), (17, 'zilinsky kraj, martin', {3: 0.0, 7: 27.0, 10: 'anglicky, nemecky', 11: 'citanie, pocuvanie hudby, pozeranie filmov, spanie, nakupovanie', 20: 'biela, cierna, modra, fialova', 28: 'vydata za najuzasnejsieho cloveka pod slnkom', 29: nan}), ('zilinsky kraj, martin', 7, {3: 0.0, 7: 22.0, 10: nan, 11: nan, 20: nan, 28: nan, 29: nan}), (8, 'trenciansky kraj, ilava', {3: 1.0, 7: 26.0, 10: nan, 11: nan, 20: nan, 28: nan, 29: nan}), (21, 'zilinsky kraj, cadca', {3: 0.0, 7: 17.0, 10: 'nemecky, a tou nasou slovencinou asi taq 50&#37;', 11: 'malovanie, kolieskove korcule, spanie ,lenosenie,  stanovanie,hmm no a hlavne hem sa ja a iwa nahovorime na posilku eheh, praca s pc, kino, priatelia, nakupovanie, party, kupalisko, pc hry, prace okolo domu, domace prace', 20: 'cervena, cierna, modra, oranzova, ruzova, zelena, zlta', 28: 'slobodny(a)', 29: 'hmm deti by som do buducnosti cela mat aspon 3 ale adoptovane svoje nechcem'}), ('zilinsky kraj, cadca', 10, {3: 0.0, 7: 22.0, 10: 'anglicky, nemecky, ...rukami, nohami..ale dohovorim sa:)', 11: 'sportovanie, domace prace, varenie, kino, party, priatelia, stanovanie, ...proste vsetko, pri com sa zabavim...:)', 20: 'biela, cervena, fialova, modra, oranzova, ruzova, zelena, zlta, asi vsetky pestre farby:)', 28: 'stastny...:)', 29: '...deti mam rada...ale iba ked si ich mozem nachvilu poziciat a potom vratit:)...na vlastne mam este dost casu...:)))'})])"
      ]
     },
     "execution_count": 15,
     "metadata": {},
     "output_type": "execute_result"
    }
   ],
   "source": [
    "G.edges(data=True)"
   ]
  },
  {
   "cell_type": "code",
   "execution_count": 16,
   "metadata": {},
   "outputs": [
    {
     "data": {
      "text/plain": [
       "[{1, 5, 6, 'zilinsky kraj, zilina'},\n",
       " {16, 18, 19, 2, 20, 31, 32, 33, 46, 'zilinsky kraj, kysucke nove mesto'},\n",
       " {3, 'bratislavsky kraj, bratislava - karlova ves'},\n",
       " {4, 9, 'banskobystricky kraj, brezno'},\n",
       " {17, 7, 'zilinsky kraj, martin'},\n",
       " {8, 'trenciansky kraj, ilava'},\n",
       " {10, 21, 'zilinsky kraj, cadca'}]"
      ]
     },
     "execution_count": 16,
     "metadata": {},
     "output_type": "execute_result"
    }
   ],
   "source": [
    "list(nx.connected_components(G))"
   ]
  },
  {
   "cell_type": "code",
   "execution_count": 17,
   "metadata": {},
   "outputs": [
    {
     "data": {
      "image/png": "[encoded data removed]",
      "text/plain": [
       "<Figure size 432x288 with 1 Axes>"
      ]
     },
     "metadata": {},
     "output_type": "display_data"
    }
   ],
   "source": [
    "nx.draw_networkx(G,node_color='#1f78b4', node_shape='o', edgecolors='k',with_labels = True )"
   ]
  },
  {
   "cell_type": "code",
   "execution_count": 18,
   "metadata": {},
   "outputs": [
    {
     "data": {
      "text/plain": [
       "{16, 18, 19, 2, 20, 31, 32, 33, 46, 'zilinsky kraj, kysucke nove mesto'}"
      ]
     },
     "execution_count": 18,
     "metadata": {},
     "output_type": "execute_result"
    }
   ],
   "source": [
    "largest_cc = max(nx.connected_components(G), key=len)\n",
    "largest_cc"
   ]
  },
  {
   "cell_type": "code",
   "execution_count": 19,
   "metadata": {},
   "outputs": [],
   "source": [
    "S = [G.subgraph(c).copy() for c in nx.connected_components(G)]"
   ]
  },
  {
   "cell_type": "code",
   "execution_count": 20,
   "metadata": {},
   "outputs": [
    {
     "ename": "AttributeError",
     "evalue": "'list' object has no attribute 'edges'",
     "output_type": "error",
     "traceback": [
      "\u001b[0;31m---------------------------------------------------------------------------\u001b[0m",
      "\u001b[0;31mAttributeError\u001b[0m                            Traceback (most recent call last)",
      "\u001b[0;32m<ipython-input-20-3c972dff58f6>\u001b[0m in \u001b[0;36m<module>\u001b[0;34m\u001b[0m\n\u001b[0;32m----> 1\u001b[0;31m \u001b[0mnx\u001b[0m\u001b[0;34m.\u001b[0m\u001b[0mdraw\u001b[0m\u001b[0;34m(\u001b[0m\u001b[0mS\u001b[0m\u001b[0;34m,\u001b[0m\u001b[0mwith_labels\u001b[0m\u001b[0;34m=\u001b[0m\u001b[0;32mTrue\u001b[0m\u001b[0;34m)\u001b[0m\u001b[0;34m\u001b[0m\u001b[0;34m\u001b[0m\u001b[0m\n\u001b[0m",
      "\u001b[0;32m~/anaconda3/lib/python3.7/site-packages/networkx/drawing/nx_pylab.py\u001b[0m in \u001b[0;36mdraw\u001b[0;34m(G, pos, ax, **kwds)\u001b[0m\n\u001b[1;32m    126\u001b[0m \u001b[0;34m\u001b[0m\u001b[0m\n\u001b[1;32m    127\u001b[0m     \u001b[0;32mtry\u001b[0m\u001b[0;34m:\u001b[0m\u001b[0;34m\u001b[0m\u001b[0;34m\u001b[0m\u001b[0m\n\u001b[0;32m--> 128\u001b[0;31m         \u001b[0mdraw_networkx\u001b[0m\u001b[0;34m(\u001b[0m\u001b[0mG\u001b[0m\u001b[0;34m,\u001b[0m \u001b[0mpos\u001b[0m\u001b[0;34m=\u001b[0m\u001b[0mpos\u001b[0m\u001b[0;34m,\u001b[0m \u001b[0max\u001b[0m\u001b[0;34m=\u001b[0m\u001b[0max\u001b[0m\u001b[0;34m,\u001b[0m \u001b[0;34m**\u001b[0m\u001b[0mkwds\u001b[0m\u001b[0;34m)\u001b[0m\u001b[0;34m\u001b[0m\u001b[0;34m\u001b[0m\u001b[0m\n\u001b[0m\u001b[1;32m    129\u001b[0m         \u001b[0max\u001b[0m\u001b[0;34m.\u001b[0m\u001b[0mset_axis_off\u001b[0m\u001b[0;34m(\u001b[0m\u001b[0;34m)\u001b[0m\u001b[0;34m\u001b[0m\u001b[0;34m\u001b[0m\u001b[0m\n\u001b[1;32m    130\u001b[0m         \u001b[0mplt\u001b[0m\u001b[0;34m.\u001b[0m\u001b[0mdraw_if_interactive\u001b[0m\u001b[0;34m(\u001b[0m\u001b[0;34m)\u001b[0m\u001b[0;34m\u001b[0m\u001b[0;34m\u001b[0m\u001b[0m\n",
      "\u001b[0;32m~/anaconda3/lib/python3.7/site-packages/networkx/drawing/nx_pylab.py\u001b[0m in \u001b[0;36mdraw_networkx\u001b[0;34m(G, pos, arrows, with_labels, **kwds)\u001b[0m\n\u001b[1;32m    278\u001b[0m \u001b[0;34m\u001b[0m\u001b[0m\n\u001b[1;32m    279\u001b[0m     \u001b[0mnode_collection\u001b[0m \u001b[0;34m=\u001b[0m \u001b[0mdraw_networkx_nodes\u001b[0m\u001b[0;34m(\u001b[0m\u001b[0mG\u001b[0m\u001b[0;34m,\u001b[0m \u001b[0mpos\u001b[0m\u001b[0;34m,\u001b[0m \u001b[0;34m**\u001b[0m\u001b[0mkwds\u001b[0m\u001b[0;34m)\u001b[0m\u001b[0;34m\u001b[0m\u001b[0;34m\u001b[0m\u001b[0m\n\u001b[0;32m--> 280\u001b[0;31m     \u001b[0medge_collection\u001b[0m \u001b[0;34m=\u001b[0m \u001b[0mdraw_networkx_edges\u001b[0m\u001b[0;34m(\u001b[0m\u001b[0mG\u001b[0m\u001b[0;34m,\u001b[0m \u001b[0mpos\u001b[0m\u001b[0;34m,\u001b[0m \u001b[0marrows\u001b[0m\u001b[0;34m=\u001b[0m\u001b[0marrows\u001b[0m\u001b[0;34m,\u001b[0m \u001b[0;34m**\u001b[0m\u001b[0mkwds\u001b[0m\u001b[0;34m)\u001b[0m\u001b[0;34m\u001b[0m\u001b[0;34m\u001b[0m\u001b[0m\n\u001b[0m\u001b[1;32m    281\u001b[0m     \u001b[0;32mif\u001b[0m \u001b[0mwith_labels\u001b[0m\u001b[0;34m:\u001b[0m\u001b[0;34m\u001b[0m\u001b[0;34m\u001b[0m\u001b[0m\n\u001b[1;32m    282\u001b[0m         \u001b[0mdraw_networkx_labels\u001b[0m\u001b[0;34m(\u001b[0m\u001b[0mG\u001b[0m\u001b[0;34m,\u001b[0m \u001b[0mpos\u001b[0m\u001b[0;34m,\u001b[0m \u001b[0;34m**\u001b[0m\u001b[0mkwds\u001b[0m\u001b[0;34m)\u001b[0m\u001b[0;34m\u001b[0m\u001b[0;34m\u001b[0m\u001b[0m\n",
      "\u001b[0;32m~/anaconda3/lib/python3.7/site-packages/networkx/drawing/nx_pylab.py\u001b[0m in \u001b[0;36mdraw_networkx_edges\u001b[0;34m(G, pos, edgelist, width, edge_color, style, alpha, arrowstyle, arrowsize, edge_cmap, edge_vmin, edge_vmax, ax, arrows, label, node_size, nodelist, node_shape, connectionstyle, **kwds)\u001b[0m\n\u001b[1;32m    566\u001b[0m \u001b[0;34m\u001b[0m\u001b[0m\n\u001b[1;32m    567\u001b[0m     \u001b[0;32mif\u001b[0m \u001b[0medgelist\u001b[0m \u001b[0;32mis\u001b[0m \u001b[0;32mNone\u001b[0m\u001b[0;34m:\u001b[0m\u001b[0;34m\u001b[0m\u001b[0;34m\u001b[0m\u001b[0m\n\u001b[0;32m--> 568\u001b[0;31m         \u001b[0medgelist\u001b[0m \u001b[0;34m=\u001b[0m \u001b[0mlist\u001b[0m\u001b[0;34m(\u001b[0m\u001b[0mG\u001b[0m\u001b[0;34m.\u001b[0m\u001b[0medges\u001b[0m\u001b[0;34m(\u001b[0m\u001b[0;34m)\u001b[0m\u001b[0;34m)\u001b[0m\u001b[0;34m\u001b[0m\u001b[0;34m\u001b[0m\u001b[0m\n\u001b[0m\u001b[1;32m    569\u001b[0m \u001b[0;34m\u001b[0m\u001b[0m\n\u001b[1;32m    570\u001b[0m     \u001b[0;32mif\u001b[0m \u001b[0;32mnot\u001b[0m \u001b[0medgelist\u001b[0m \u001b[0;32mor\u001b[0m \u001b[0mlen\u001b[0m\u001b[0;34m(\u001b[0m\u001b[0medgelist\u001b[0m\u001b[0;34m)\u001b[0m \u001b[0;34m==\u001b[0m \u001b[0;36m0\u001b[0m\u001b[0;34m:\u001b[0m  \u001b[0;31m# no edges!\u001b[0m\u001b[0;34m\u001b[0m\u001b[0;34m\u001b[0m\u001b[0m\n",
      "\u001b[0;31mAttributeError\u001b[0m: 'list' object has no attribute 'edges'"
     ]
    },
    {
     "data": {
      "image/png": "[encoded data removed]",
      "text/plain": [
       "<Figure size 432x288 with 1 Axes>"
      ]
     },
     "metadata": {},
     "output_type": "display_data"
    }
   ],
   "source": [
    "nx.draw(S,with_labels=True)"
   ]
  },
  {
   "cell_type": "code",
   "execution_count": 21,
   "metadata": {},
   "outputs": [],
   "source": [
    "Y = nx.path_graph(4)\n",
    "nx.write_gpickle(Y, \"test.gpickle\")\n",
    "Z = nx.read_gpickle(\"test.gpickle\")"
   ]
  },
  {
   "cell_type": "code",
   "execution_count": 22,
   "metadata": {},
   "outputs": [
    {
     "data": {
      "text/plain": [
       "'Name: \\nType: Graph\\nNumber of nodes: 4\\nNumber of edges: 3\\nAverage degree:   1.5000'"
      ]
     },
     "execution_count": 22,
     "metadata": {},
     "output_type": "execute_result"
    }
   ],
   "source": [
    "nx.info(Z)"
   ]
  },
  {
   "cell_type": "code",
   "execution_count": 23,
   "metadata": {},
   "outputs": [
    {
     "data": {
      "image/png": "[encoded data removed]",
      "text/plain": [
       "<Figure size 432x288 with 1 Axes>"
      ]
     },
     "metadata": {},
     "output_type": "display_data"
    }
   ],
   "source": [
    "nx.draw(Z,with_labels=True)"
   ]
  },
  {
   "cell_type": "code",
   "execution_count": 24,
   "metadata": {},
   "outputs": [
    {
     "name": "stdout",
     "output_type": "stream",
     "text": [
      "\n"
     ]
    }
   ],
   "source": [
    "my_data=pd.read_pickle('test.gpickle')\n",
    "print(my_data)"
   ]
  },
  {
   "cell_type": "code",
   "execution_count": null,
   "metadata": {},
   "outputs": [],
   "source": []
  },
  {
   "cell_type": "code",
   "execution_count": null,
   "metadata": {},
   "outputs": [],
   "source": []
  },
  {
   "cell_type": "code",
   "execution_count": null,
   "metadata": {},
   "outputs": [],
   "source": []
  },
  {
   "cell_type": "code",
   "execution_count": 25,
   "metadata": {},
   "outputs": [
    {
     "data": {
      "text/plain": [
       "(30622564, 2)"
      ]
     },
     "execution_count": 25,
     "metadata": {},
     "output_type": "execute_result"
    }
   ],
   "source": [
    "df_n.shape"
   ]
  },
  {
   "cell_type": "code",
   "execution_count": 26,
   "metadata": {},
   "outputs": [],
   "source": [
    "df_n2=df_n.head(100)"
   ]
  },
  {
   "cell_type": "code",
   "execution_count": 27,
   "metadata": {},
   "outputs": [],
   "source": [
    "H=nx.from_pandas_edgelist(df_n2,0,1)"
   ]
  },
  {
   "cell_type": "code",
   "execution_count": 28,
   "metadata": {},
   "outputs": [
    {
     "data": {
      "text/plain": [
       "EdgeView([(1, 13), (1, 11), (1, 6), (1, 3), (1, 4), (1, 5), (1, 15), (1, 14), (1, 7), (1, 8), (1, 12), (1, 9), (1, 10), (1, 16), (1, 2), (16, 2), (2, 18), (2, 19), (2, 20), (2, 21), (2, 22), (2, 23), (2, 24), (2, 25), (2, 26), (2, 27), (2, 28), (2, 29), (2, 30), (2, 31), (2, 32), (2, 33), (2, 34), (2, 35), (2, 36), (2, 37), (2, 38), (2, 39), (2, 40), (2, 41), (2, 42), (2, 43), (2, 44), (2, 45), (2, 46), (2, 47), (2, 48), (2, 49), (2, 50), (2, 51), (2, 52), (2, 53), (2, 54), (2, 55), (2, 56), (2, 57), (2, 58), (2, 59), (2, 60), (2, 61), (2, 62), (2, 63), (2, 64), (2, 65), (2, 66), (2, 67), (2, 68), (2, 69), (2, 70), (2, 71), (2, 72), (2, 73), (2, 74), (2, 75), (2, 76), (2, 77), (2, 78), (2, 79), (2, 80), (2, 81), (2, 82), (2, 83), (2, 84), (2, 85), (2, 86), (2, 87), (2, 88), (2, 89), (2, 90), (2, 91), (2, 92), (2, 93), (2, 94), (2, 95), (2, 96), (2, 97), (2, 98), (2, 99), (2, 100), (2, 101)])"
      ]
     },
     "execution_count": 28,
     "metadata": {},
     "output_type": "execute_result"
    }
   ],
   "source": [
    "H.edges()"
   ]
  },
  {
   "cell_type": "code",
   "execution_count": 29,
   "metadata": {},
   "outputs": [
    {
     "data": {
      "text/plain": [
       "NodeDataView({1: {}, 13: {}, 11: {}, 6: {}, 3: {}, 4: {}, 5: {}, 15: {}, 14: {}, 7: {}, 8: {}, 12: {}, 9: {}, 10: {}, 16: {}, 2: {}, 18: {}, 19: {}, 20: {}, 21: {}, 22: {}, 23: {}, 24: {}, 25: {}, 26: {}, 27: {}, 28: {}, 29: {}, 30: {}, 31: {}, 32: {}, 33: {}, 34: {}, 35: {}, 36: {}, 37: {}, 38: {}, 39: {}, 40: {}, 41: {}, 42: {}, 43: {}, 44: {}, 45: {}, 46: {}, 47: {}, 48: {}, 49: {}, 50: {}, 51: {}, 52: {}, 53: {}, 54: {}, 55: {}, 56: {}, 57: {}, 58: {}, 59: {}, 60: {}, 61: {}, 62: {}, 63: {}, 64: {}, 65: {}, 66: {}, 67: {}, 68: {}, 69: {}, 70: {}, 71: {}, 72: {}, 73: {}, 74: {}, 75: {}, 76: {}, 77: {}, 78: {}, 79: {}, 80: {}, 81: {}, 82: {}, 83: {}, 84: {}, 85: {}, 86: {}, 87: {}, 88: {}, 89: {}, 90: {}, 91: {}, 92: {}, 93: {}, 94: {}, 95: {}, 96: {}, 97: {}, 98: {}, 99: {}, 100: {}, 101: {}})"
      ]
     },
     "execution_count": 29,
     "metadata": {},
     "output_type": "execute_result"
    }
   ],
   "source": [
    "H.nodes(data=True)"
   ]
  },
  {
   "cell_type": "code",
   "execution_count": 30,
   "metadata": {},
   "outputs": [
    {
     "data": {
      "text/plain": [
       "[1,\n",
       " 13,\n",
       " 11,\n",
       " 6,\n",
       " 3,\n",
       " 4,\n",
       " 5,\n",
       " 15,\n",
       " 14,\n",
       " 7,\n",
       " 8,\n",
       " 12,\n",
       " 9,\n",
       " 10,\n",
       " 16,\n",
       " 2,\n",
       " 18,\n",
       " 19,\n",
       " 20,\n",
       " 21,\n",
       " 22,\n",
       " 23,\n",
       " 24,\n",
       " 25,\n",
       " 26,\n",
       " 27,\n",
       " 28,\n",
       " 29,\n",
       " 30,\n",
       " 31,\n",
       " 32,\n",
       " 33,\n",
       " 34,\n",
       " 35,\n",
       " 36,\n",
       " 37,\n",
       " 38,\n",
       " 39,\n",
       " 40,\n",
       " 41,\n",
       " 42,\n",
       " 43,\n",
       " 44,\n",
       " 45,\n",
       " 46,\n",
       " 47,\n",
       " 48,\n",
       " 49,\n",
       " 50,\n",
       " 51,\n",
       " 52,\n",
       " 53,\n",
       " 54,\n",
       " 55,\n",
       " 56,\n",
       " 57,\n",
       " 58,\n",
       " 59,\n",
       " 60,\n",
       " 61,\n",
       " 62,\n",
       " 63,\n",
       " 64,\n",
       " 65,\n",
       " 66,\n",
       " 67,\n",
       " 68,\n",
       " 69,\n",
       " 70,\n",
       " 71,\n",
       " 72,\n",
       " 73,\n",
       " 74,\n",
       " 75,\n",
       " 76,\n",
       " 77,\n",
       " 78,\n",
       " 79,\n",
       " 80,\n",
       " 81,\n",
       " 82,\n",
       " 83,\n",
       " 84,\n",
       " 85,\n",
       " 86,\n",
       " 87,\n",
       " 88,\n",
       " 89,\n",
       " 90,\n",
       " 91,\n",
       " 92,\n",
       " 93,\n",
       " 94,\n",
       " 95,\n",
       " 96,\n",
       " 97,\n",
       " 98,\n",
       " 99,\n",
       " 100,\n",
       " 101]"
      ]
     },
     "execution_count": 30,
     "metadata": {},
     "output_type": "execute_result"
    }
   ],
   "source": [
    "list(H.nodes)"
   ]
  },
  {
   "cell_type": "code",
   "execution_count": 31,
   "metadata": {},
   "outputs": [
    {
     "data": {
      "text/plain": [
       "[(1, 13),\n",
       " (1, 11),\n",
       " (1, 6),\n",
       " (1, 3),\n",
       " (1, 4),\n",
       " (1, 5),\n",
       " (1, 15),\n",
       " (1, 14),\n",
       " (1, 7),\n",
       " (1, 8),\n",
       " (1, 12),\n",
       " (1, 9),\n",
       " (1, 10),\n",
       " (1, 16),\n",
       " (1, 2),\n",
       " (16, 2),\n",
       " (2, 18),\n",
       " (2, 19),\n",
       " (2, 20),\n",
       " (2, 21),\n",
       " (2, 22),\n",
       " (2, 23),\n",
       " (2, 24),\n",
       " (2, 25),\n",
       " (2, 26),\n",
       " (2, 27),\n",
       " (2, 28),\n",
       " (2, 29),\n",
       " (2, 30),\n",
       " (2, 31),\n",
       " (2, 32),\n",
       " (2, 33),\n",
       " (2, 34),\n",
       " (2, 35),\n",
       " (2, 36),\n",
       " (2, 37),\n",
       " (2, 38),\n",
       " (2, 39),\n",
       " (2, 40),\n",
       " (2, 41),\n",
       " (2, 42),\n",
       " (2, 43),\n",
       " (2, 44),\n",
       " (2, 45),\n",
       " (2, 46),\n",
       " (2, 47),\n",
       " (2, 48),\n",
       " (2, 49),\n",
       " (2, 50),\n",
       " (2, 51),\n",
       " (2, 52),\n",
       " (2, 53),\n",
       " (2, 54),\n",
       " (2, 55),\n",
       " (2, 56),\n",
       " (2, 57),\n",
       " (2, 58),\n",
       " (2, 59),\n",
       " (2, 60),\n",
       " (2, 61),\n",
       " (2, 62),\n",
       " (2, 63),\n",
       " (2, 64),\n",
       " (2, 65),\n",
       " (2, 66),\n",
       " (2, 67),\n",
       " (2, 68),\n",
       " (2, 69),\n",
       " (2, 70),\n",
       " (2, 71),\n",
       " (2, 72),\n",
       " (2, 73),\n",
       " (2, 74),\n",
       " (2, 75),\n",
       " (2, 76),\n",
       " (2, 77),\n",
       " (2, 78),\n",
       " (2, 79),\n",
       " (2, 80),\n",
       " (2, 81),\n",
       " (2, 82),\n",
       " (2, 83),\n",
       " (2, 84),\n",
       " (2, 85),\n",
       " (2, 86),\n",
       " (2, 87),\n",
       " (2, 88),\n",
       " (2, 89),\n",
       " (2, 90),\n",
       " (2, 91),\n",
       " (2, 92),\n",
       " (2, 93),\n",
       " (2, 94),\n",
       " (2, 95),\n",
       " (2, 96),\n",
       " (2, 97),\n",
       " (2, 98),\n",
       " (2, 99),\n",
       " (2, 100),\n",
       " (2, 101)]"
      ]
     },
     "execution_count": 31,
     "metadata": {},
     "output_type": "execute_result"
    }
   ],
   "source": [
    "list(H.edges)"
   ]
  },
  {
   "cell_type": "code",
   "execution_count": 32,
   "metadata": {},
   "outputs": [
    {
     "name": "stderr",
     "output_type": "stream",
     "text": [
      "/Users/jasminekaur/anaconda3/lib/python3.7/site-packages/networkx/drawing/nx_pylab.py:579: MatplotlibDeprecationWarning: \n",
      "The iterable function was deprecated in Matplotlib 3.1 and will be removed in 3.3. Use np.iterable instead.\n",
      "  if not cb.iterable(width):\n"
     ]
    },
    {
     "data": {
      "image/png": "[encoded data removed]",
      "text/plain": [
       "<Figure size 432x288 with 1 Axes>"
      ]
     },
     "metadata": {},
     "output_type": "display_data"
    }
   ],
   "source": [
    "nx.draw(H,with_labels = True) "
   ]
  },
  {
   "cell_type": "code",
   "execution_count": 33,
   "metadata": {},
   "outputs": [
    {
     "data": {
      "text/plain": [
       "100"
      ]
     },
     "execution_count": 33,
     "metadata": {},
     "output_type": "execute_result"
    }
   ],
   "source": [
    "H.number_of_nodes()"
   ]
  },
  {
   "cell_type": "code",
   "execution_count": 34,
   "metadata": {},
   "outputs": [
    {
     "data": {
      "text/plain": [
       "100"
      ]
     },
     "execution_count": 34,
     "metadata": {},
     "output_type": "execute_result"
    }
   ],
   "source": [
    "H.number_of_edges()"
   ]
  },
  {
   "cell_type": "code",
   "execution_count": 35,
   "metadata": {},
   "outputs": [
    {
     "data": {
      "text/plain": [
       "'Name: \\nType: Graph\\nNumber of nodes: 100\\nNumber of edges: 100\\nAverage degree:   2.0000'"
      ]
     },
     "execution_count": 35,
     "metadata": {},
     "output_type": "execute_result"
    }
   ],
   "source": [
    "nx.info(H)"
   ]
  },
  {
   "cell_type": "code",
   "execution_count": 36,
   "metadata": {},
   "outputs": [],
   "source": [
    "Gender = {}\n",
    "region={}\n",
    "age={}\n",
    "favcolour={}"
   ]
  },
  {
   "cell_type": "code",
   "execution_count": 37,
   "metadata": {},
   "outputs": [],
   "source": [
    "Gender=df2[3].to_dict()\n",
    "region=df2[4].to_dict()\n",
    "age=df2[7].to_dict()\n",
    "favcolour=df2[20].to_dict()"
   ]
  },
  {
   "cell_type": "code",
   "execution_count": 38,
   "metadata": {},
   "outputs": [],
   "source": [
    "nx.set_node_attributes(H, Gender,3)\n",
    "nx.set_node_attributes(H, region,4)\n",
    "nx.set_node_attributes(H, age,7)\n",
    "nx.set_node_attributes(H, favcolour,20)"
   ]
  },
  {
   "cell_type": "code",
   "execution_count": 39,
   "metadata": {},
   "outputs": [
    {
     "data": {
      "text/plain": [
       "EdgeDataView([(1, 13, {}), (1, 11, {}), (1, 6, {}), (1, 3, {}), (1, 4, {}), (1, 5, {}), (1, 15, {}), (1, 14, {}), (1, 7, {}), (1, 8, {}), (1, 12, {}), (1, 9, {}), (1, 10, {}), (1, 16, {}), (1, 2, {}), (16, 2, {}), (2, 18, {}), (2, 19, {}), (2, 20, {}), (2, 21, {}), (2, 22, {}), (2, 23, {}), (2, 24, {}), (2, 25, {}), (2, 26, {}), (2, 27, {}), (2, 28, {}), (2, 29, {}), (2, 30, {}), (2, 31, {}), (2, 32, {}), (2, 33, {}), (2, 34, {}), (2, 35, {}), (2, 36, {}), (2, 37, {}), (2, 38, {}), (2, 39, {}), (2, 40, {}), (2, 41, {}), (2, 42, {}), (2, 43, {}), (2, 44, {}), (2, 45, {}), (2, 46, {}), (2, 47, {}), (2, 48, {}), (2, 49, {}), (2, 50, {}), (2, 51, {}), (2, 52, {}), (2, 53, {}), (2, 54, {}), (2, 55, {}), (2, 56, {}), (2, 57, {}), (2, 58, {}), (2, 59, {}), (2, 60, {}), (2, 61, {}), (2, 62, {}), (2, 63, {}), (2, 64, {}), (2, 65, {}), (2, 66, {}), (2, 67, {}), (2, 68, {}), (2, 69, {}), (2, 70, {}), (2, 71, {}), (2, 72, {}), (2, 73, {}), (2, 74, {}), (2, 75, {}), (2, 76, {}), (2, 77, {}), (2, 78, {}), (2, 79, {}), (2, 80, {}), (2, 81, {}), (2, 82, {}), (2, 83, {}), (2, 84, {}), (2, 85, {}), (2, 86, {}), (2, 87, {}), (2, 88, {}), (2, 89, {}), (2, 90, {}), (2, 91, {}), (2, 92, {}), (2, 93, {}), (2, 94, {}), (2, 95, {}), (2, 96, {}), (2, 97, {}), (2, 98, {}), (2, 99, {}), (2, 100, {}), (2, 101, {})])"
      ]
     },
     "execution_count": 39,
     "metadata": {},
     "output_type": "execute_result"
    }
   ],
   "source": [
    "H.edges(data=True)"
   ]
  },
  {
   "cell_type": "code",
   "execution_count": 40,
   "metadata": {},
   "outputs": [
    {
     "data": {
      "text/plain": [
       "NodeDataView({1: {3: 0.0, 4: 'zilinsky kraj, kysucke nove mesto', 7: 0.0, 20: 'cierna, modra, ruzova'}, 13: {3: 0.0, 4: 'zilinsky kraj, martin', 7: 22.0, 20: nan}, 11: {3: 1.0, 4: 'zilinsky kraj, kysucke nove mesto', 7: 21.0, 20: 'cervena, modra, zelena a oranzovo cierne auto...'}, 6: {3: 1.0, 4: 'zilinsky kraj, zilina', 7: 26.0, 20: 'hneda, modra, zelena'}, 3: {3: 1.0, 4: 'bratislavsky kraj, bratislava - karlova ves', 7: 29.0, 20: 'cierna, modra'}, 4: {3: 0.0, 4: 'banskobystricky kraj, brezno', 7: 26.0, 20: nan}, 5: {3: 0.0, 4: 'zilinsky kraj, martin', 7: 27.0, 20: 'biela, cierna, modra, fialova'}, 15: {3: 1.0, 4: 'zilinsky kraj, kysucke nove mesto', 7: 22.0, 20: 'biela, modra, cierna, zlta'}, 14: {3: 1.0, 4: 'trenciansky kraj, ilava', 7: 26.0, 20: nan}, 7: {3: 1.0, 4: 'zilinsky kraj, kysucke nove mesto', 7: 18.0, 20: nan}, 8: {3: 1.0, 4: 'zilinsky kraj, kysucke nove mesto', 7: 24.0, 20: 'biela, cierna, modra'}, 12: {3: 0.0, 4: 'zilinsky kraj, kysucke nove mesto', 7: 20.0, 20: nan}, 9: {3: 1.0, 4: 'zilinsky kraj, kysucke nove mesto', 7: 21.0, 20: 'oranzova, ruzova, zlta'}, 10: {3: 0.0, 4: 'zilinsky kraj, zilina', 7: 38.0, 20: nan}, 16: {3: 0.0, 4: 'banskobystricky kraj, brezno', 7: 0.0, 20: nan}, 2: {3: 1.0, 4: 'zilinsky kraj, kysucke nove mesto', 7: 23.0, 20: 'biela, modra, zelena'}, 18: {3: 0.0, 4: 'zilinsky kraj, cadca', 7: 17.0, 20: 'cervena, cierna, modra, oranzova, ruzova, zelena, zlta'}, 19: {3: 0.0, 4: 'zilinsky kraj, cadca', 7: 22.0, 20: 'biela, cervena, fialova, modra, oranzova, ruzova, zelena, zlta, asi vsetky pestre farby:)'}, 20: {}, 21: {}, 22: {}, 23: {}, 24: {}, 25: {}, 26: {}, 27: {}, 28: {}, 29: {}, 30: {}, 31: {}, 32: {}, 33: {}, 34: {}, 35: {}, 36: {}, 37: {}, 38: {}, 39: {}, 40: {}, 41: {}, 42: {}, 43: {}, 44: {}, 45: {}, 46: {}, 47: {}, 48: {}, 49: {}, 50: {}, 51: {}, 52: {}, 53: {}, 54: {}, 55: {}, 56: {}, 57: {}, 58: {}, 59: {}, 60: {}, 61: {}, 62: {}, 63: {}, 64: {}, 65: {}, 66: {}, 67: {}, 68: {}, 69: {}, 70: {}, 71: {}, 72: {}, 73: {}, 74: {}, 75: {}, 76: {}, 77: {}, 78: {}, 79: {}, 80: {}, 81: {}, 82: {}, 83: {}, 84: {}, 85: {}, 86: {}, 87: {}, 88: {}, 89: {}, 90: {}, 91: {}, 92: {}, 93: {}, 94: {}, 95: {}, 96: {}, 97: {}, 98: {}, 99: {}, 100: {}, 101: {}})"
      ]
     },
     "execution_count": 40,
     "metadata": {},
     "output_type": "execute_result"
    }
   ],
   "source": [
    "H.nodes(data=True)"
   ]
  },
  {
   "cell_type": "code",
   "execution_count": 41,
   "metadata": {},
   "outputs": [
    {
     "data": {
      "image/png": "[encoded data removed]",
      "text/plain": [
       "<Figure size 432x288 with 1 Axes>"
      ]
     },
     "metadata": {},
     "output_type": "display_data"
    }
   ],
   "source": [
    "nx.draw(H,with_labels = True) "
   ]
  },
  {
   "cell_type": "code",
   "execution_count": 42,
   "metadata": {},
   "outputs": [
    {
     "data": {
      "text/plain": [
       "[{1,\n",
       "  2,\n",
       "  3,\n",
       "  4,\n",
       "  5,\n",
       "  6,\n",
       "  7,\n",
       "  8,\n",
       "  9,\n",
       "  10,\n",
       "  11,\n",
       "  12,\n",
       "  13,\n",
       "  14,\n",
       "  15,\n",
       "  16,\n",
       "  18,\n",
       "  19,\n",
       "  20,\n",
       "  21,\n",
       "  22,\n",
       "  23,\n",
       "  24,\n",
       "  25,\n",
       "  26,\n",
       "  27,\n",
       "  28,\n",
       "  29,\n",
       "  30,\n",
       "  31,\n",
       "  32,\n",
       "  33,\n",
       "  34,\n",
       "  35,\n",
       "  36,\n",
       "  37,\n",
       "  38,\n",
       "  39,\n",
       "  40,\n",
       "  41,\n",
       "  42,\n",
       "  43,\n",
       "  44,\n",
       "  45,\n",
       "  46,\n",
       "  47,\n",
       "  48,\n",
       "  49,\n",
       "  50,\n",
       "  51,\n",
       "  52,\n",
       "  53,\n",
       "  54,\n",
       "  55,\n",
       "  56,\n",
       "  57,\n",
       "  58,\n",
       "  59,\n",
       "  60,\n",
       "  61,\n",
       "  62,\n",
       "  63,\n",
       "  64,\n",
       "  65,\n",
       "  66,\n",
       "  67,\n",
       "  68,\n",
       "  69,\n",
       "  70,\n",
       "  71,\n",
       "  72,\n",
       "  73,\n",
       "  74,\n",
       "  75,\n",
       "  76,\n",
       "  77,\n",
       "  78,\n",
       "  79,\n",
       "  80,\n",
       "  81,\n",
       "  82,\n",
       "  83,\n",
       "  84,\n",
       "  85,\n",
       "  86,\n",
       "  87,\n",
       "  88,\n",
       "  89,\n",
       "  90,\n",
       "  91,\n",
       "  92,\n",
       "  93,\n",
       "  94,\n",
       "  95,\n",
       "  96,\n",
       "  97,\n",
       "  98,\n",
       "  99,\n",
       "  100,\n",
       "  101}]"
      ]
     },
     "execution_count": 42,
     "metadata": {},
     "output_type": "execute_result"
    }
   ],
   "source": [
    "list(nx.connected_components(H))"
   ]
  },
  {
   "cell_type": "code",
   "execution_count": 43,
   "metadata": {},
   "outputs": [
    {
     "data": {
      "text/plain": [
       "[]"
      ]
     },
     "execution_count": 43,
     "metadata": {},
     "output_type": "execute_result"
    }
   ],
   "source": [
    "X = G.subgraph(1)\n",
    "list(X.edges)"
   ]
  },
  {
   "cell_type": "code",
   "execution_count": 44,
   "metadata": {},
   "outputs": [
    {
     "data": {
      "text/plain": [
       "{1,\n",
       " 2,\n",
       " 3,\n",
       " 4,\n",
       " 5,\n",
       " 6,\n",
       " 7,\n",
       " 8,\n",
       " 9,\n",
       " 10,\n",
       " 11,\n",
       " 12,\n",
       " 13,\n",
       " 14,\n",
       " 15,\n",
       " 16,\n",
       " 18,\n",
       " 19,\n",
       " 20,\n",
       " 21,\n",
       " 22,\n",
       " 23,\n",
       " 24,\n",
       " 25,\n",
       " 26,\n",
       " 27,\n",
       " 28,\n",
       " 29,\n",
       " 30,\n",
       " 31,\n",
       " 32,\n",
       " 33,\n",
       " 34,\n",
       " 35,\n",
       " 36,\n",
       " 37,\n",
       " 38,\n",
       " 39,\n",
       " 40,\n",
       " 41,\n",
       " 42,\n",
       " 43,\n",
       " 44,\n",
       " 45,\n",
       " 46,\n",
       " 47,\n",
       " 48,\n",
       " 49,\n",
       " 50,\n",
       " 51,\n",
       " 52,\n",
       " 53,\n",
       " 54,\n",
       " 55,\n",
       " 56,\n",
       " 57,\n",
       " 58,\n",
       " 59,\n",
       " 60,\n",
       " 61,\n",
       " 62,\n",
       " 63,\n",
       " 64,\n",
       " 65,\n",
       " 66,\n",
       " 67,\n",
       " 68,\n",
       " 69,\n",
       " 70,\n",
       " 71,\n",
       " 72,\n",
       " 73,\n",
       " 74,\n",
       " 75,\n",
       " 76,\n",
       " 77,\n",
       " 78,\n",
       " 79,\n",
       " 80,\n",
       " 81,\n",
       " 82,\n",
       " 83,\n",
       " 84,\n",
       " 85,\n",
       " 86,\n",
       " 87,\n",
       " 88,\n",
       " 89,\n",
       " 90,\n",
       " 91,\n",
       " 92,\n",
       " 93,\n",
       " 94,\n",
       " 95,\n",
       " 96,\n",
       " 97,\n",
       " 98,\n",
       " 99,\n",
       " 100,\n",
       " 101}"
      ]
     },
     "execution_count": 44,
     "metadata": {},
     "output_type": "execute_result"
    }
   ],
   "source": [
    "largest_H = max(nx.connected_components(H), key=len)\n",
    "largest_H"
   ]
  },
  {
   "cell_type": "code",
   "execution_count": null,
   "metadata": {},
   "outputs": [],
   "source": []
  },
  {
   "cell_type": "code",
   "execution_count": null,
   "metadata": {},
   "outputs": [],
   "source": []
  },
  {
   "cell_type": "code",
   "execution_count": null,
   "metadata": {},
   "outputs": [],
   "source": []
  },
  {
   "cell_type": "code",
   "execution_count": null,
   "metadata": {},
   "outputs": [],
   "source": []
  }
 ],
 "metadata": {
  "kernelspec": {
   "display_name": "Python 3",
   "language": "python",
   "name": "python3"
  },
  "language_info": {
   "codemirror_mode": {
    "name": "ipython",
    "version": 3
   },
   "file_extension": ".py",
   "mimetype": "text/x-python",
   "name": "python",
   "nbconvert_exporter": "python",
   "pygments_lexer": "ipython3",
   "version": "3.7.3"
  }
 },
 "nbformat": 4,
 "nbformat_minor": 2
}
